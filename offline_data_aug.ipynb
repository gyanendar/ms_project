{
 "cells": [
  {
   "cell_type": "markdown",
   "metadata": {},
   "source": [
    "# Offline Data Augmentation"
   ]
  },
  {
   "cell_type": "markdown",
   "metadata": {},
   "source": [
    "Author: Gyanendar Manohar\n",
    "\n",
    "Date: 19/03/2022"
   ]
  },
  {
   "cell_type": "code",
   "execution_count": 19,
   "metadata": {},
   "outputs": [],
   "source": [
    "import numpy as np\n",
    "import os\n",
    "from PIL import Image\n",
    "from skimage import io\n",
    "import random\n",
    "from keras.preprocessing.image import ImageDataGenerator"
   ]
  },
  {
   "cell_type": "markdown",
   "metadata": {},
   "source": [
    "Augment image count by applying \n",
    "\n",
    "* random rotation (20 degree),\n",
    "* zooming(0.2),\n",
    "* vertical flip,\n",
    "* horizontal flip,\n",
    "* sheer range(0.2)"
   ]
  },
  {
   "cell_type": "code",
   "execution_count": 29,
   "metadata": {},
   "outputs": [],
   "source": [
    "def generate_augmented_image(base_dir,aug_dir,batch_size=16,iteration_count=50,image_ext = 'jpg'):\n",
    "    SIZE = 256\n",
    "    dataset = []\n",
    "    random.seed(100)\n",
    "\n",
    "    my_images = os.listdir(base_dir)      \n",
    "    datagen = ImageDataGenerator(        \n",
    "        rotation_range = 20,\n",
    "        shear_range = 0.2,\n",
    "        zoom_range = 0.2,\n",
    "        horizontal_flip = True,\n",
    "        vertical_flip= True) \n",
    "\n",
    "    for i, image_name in enumerate(my_images):    \n",
    "        if (image_name.split('.')[1] == image_ext):        \n",
    "            image = io.imread(base_dir + image_name)        \n",
    "            image = Image.fromarray(image, 'RGB')        \n",
    "            image = image.resize((SIZE,SIZE)) \n",
    "            dataset.append(np.array(image))\n",
    "\n",
    "    input_img = np.array(dataset)\n",
    "    index = 0\n",
    "    for batch in datagen.flow(input_img, batch_size=batch_size,\n",
    "                          save_to_dir= aug_dir,\n",
    "                          save_prefix='dr',\n",
    "                          save_format=image_ext):    \n",
    "        index += 1    \n",
    "        if index > iteration_count:        \n",
    "            break"
   ]
  },
  {
   "cell_type": "markdown",
   "metadata": {},
   "source": [
    "# ACRIMA Dataset"
   ]
  },
  {
   "cell_type": "code",
   "execution_count": 36,
   "metadata": {},
   "outputs": [],
   "source": [
    "base_g = 'C:/gyani/Projects_MS/code/dataset/ACRIMA_dataset/Database/Glaucoma/'\n",
    "aug_g = 'C:/gyani/Projects_MS/code/dataset/ACRIMA_dataset/augmented/Glaucoma/'\n",
    "\n",
    "base_n = 'C:/gyani/Projects_MS/code/dataset/ACRIMA_dataset/Database/Normal/'\n",
    "aug_n = 'C:/gyani/Projects_MS/code/dataset/ACRIMA_dataset/augmented/Normal/'"
   ]
  },
  {
   "cell_type": "code",
   "execution_count": 37,
   "metadata": {},
   "outputs": [],
   "source": [
    "generate_augmented_image(base_g,aug_g)"
   ]
  },
  {
   "cell_type": "code",
   "execution_count": 38,
   "metadata": {},
   "outputs": [],
   "source": [
    "generate_augmented_image(base_n,aug_n)"
   ]
  },
  {
   "cell_type": "markdown",
   "metadata": {},
   "source": [
    "# RIMONE_DL Dataset"
   ]
  },
  {
   "cell_type": "code",
   "execution_count": 33,
   "metadata": {},
   "outputs": [],
   "source": [
    "base_g = 'C:/gyani/Projects_MS/code/dataset/RIM-ONE_DL_images/partitioned_randomly/training_set/Glaucoma/'\n",
    "aug_g = 'C:/gyani/Projects_MS/code/dataset/RIM-ONE_DL_images/augmented/training_set/Glaucoma/'\n",
    "\n",
    "base_n = 'C:/gyani/Projects_MS/code/dataset/RIM-ONE_DL_images/partitioned_randomly/training_set/Normal/'\n",
    "aug_n = 'C:/gyani/Projects_MS/code/dataset/RIM-ONE_DL_images/augmented/training_set/Normal/'"
   ]
  },
  {
   "cell_type": "code",
   "execution_count": 34,
   "metadata": {},
   "outputs": [],
   "source": [
    "generate_augmented_image(base_g,aug_g,image_ext='png')"
   ]
  },
  {
   "cell_type": "code",
   "execution_count": 35,
   "metadata": {},
   "outputs": [],
   "source": [
    "generate_augmented_image(base_n,aug_n,image_ext='png')"
   ]
  },
  {
   "cell_type": "markdown",
   "metadata": {},
   "source": [
    "# RIMONE_V2 Dataset"
   ]
  },
  {
   "cell_type": "code",
   "execution_count": 30,
   "metadata": {},
   "outputs": [],
   "source": [
    "image_directory_g = 'C:/gyani/Projects_MS/code/dataset/RIMONE-db-r2/Glaucoma/'\n",
    "image_directory_n = 'C:/gyani/Projects_MS/code/dataset/RIMONE-db-r2/Normal/'\n",
    "aug_image_directory_g = 'C:/gyani/Projects_MS/code/dataset/augmented_data_set_Rim_one_r2/Glaucoma'\n",
    "aug_image_directory_n = 'C:/gyani/Projects_MS/code/dataset/augmented_data_set_Rim_one_r2/Normal'"
   ]
  },
  {
   "cell_type": "code",
   "execution_count": 31,
   "metadata": {},
   "outputs": [],
   "source": [
    "generate_augmented_image(image_directory_g,aug_image_directory_g,iteration_count=55)"
   ]
  },
  {
   "cell_type": "code",
   "execution_count": 32,
   "metadata": {},
   "outputs": [],
   "source": [
    "generate_augmented_image(image_directory_n,aug_image_directory_n)"
   ]
  }
 ],
 "metadata": {
  "interpreter": {
   "hash": "50546365c33416191abaf2579df2723a695f55a6b2a9b4fa7bc53ffa22a8271f"
  },
  "kernelspec": {
   "display_name": "lab3",
   "language": "python",
   "name": "lab3"
  },
  "language_info": {
   "codemirror_mode": {
    "name": "ipython",
    "version": 3
   },
   "file_extension": ".py",
   "mimetype": "text/x-python",
   "name": "python",
   "nbconvert_exporter": "python",
   "pygments_lexer": "ipython3",
   "version": "3.8.5"
  },
  "orig_nbformat": 4
 },
 "nbformat": 4,
 "nbformat_minor": 2
}
