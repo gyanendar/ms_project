{
  "cells": [
    {
      "cell_type": "markdown",
      "metadata": {},
      "source": [
        "# Capsule Network Implementation"
      ]
    },
    {
      "cell_type": "markdown",
      "metadata": {},
      "source": [
        "Architure similar to present in the original paper for MINST dataset\n",
        "There is no decoder part here which has been removed to make training faster"
      ]
    },
    {
      "cell_type": "markdown",
      "metadata": {},
      "source": [
        "# Headers"
      ]
    },
    {
      "cell_type": "code",
      "execution_count": 37,
      "metadata": {
        "colab": {
          "base_uri": "https://localhost:8080/"
        },
        "id": "rGnBsf5OO5oC",
        "outputId": "fd7e8748-e0a8-44ac-a572-afd9c1d9f0f0"
      },
      "outputs": [
        {
          "name": "stdout",
          "output_type": "stream",
          "text": [
            "2.7.0\n"
          ]
        }
      ],
      "source": [
        "import os\n",
        "import random\n",
        "import cv2\n",
        "import numpy as np\n",
        "import pandas as pd\n",
        "import tensorflow as tf\n",
        "from tensorflow.keras import callbacks\n",
        "from tensorflow.keras.preprocessing.image import ImageDataGenerator\n",
        "from sklearn import metrics\n",
        "from sklearn.metrics import precision_score\n",
        "from sklearn.metrics import recall_score\n",
        "from sklearn.metrics import f1_score\n",
        "import tensorflow.keras.backend as K\n",
        "from tensorflow.keras import initializers, layers\n",
        "from sklearn.metrics import confusion_matrix\n",
        "from tensorflow.keras import layers, models, optimizers\n",
        "from tensorflow.keras import backend as K\n",
        "from tensorflow.keras.utils import to_categorical\n",
        "\n",
        "\n",
        "\n",
        "print(tf.__version__)"
      ]
    },
    {
      "cell_type": "markdown",
      "metadata": {},
      "source": [
        "# Set Seed"
      ]
    },
    {
      "cell_type": "code",
      "execution_count": 38,
      "metadata": {
        "id": "JoX35-axPB5p"
      },
      "outputs": [],
      "source": [
        "#Set Seed for random number generation\n",
        "def set_seed(seed = 100):\n",
        "  tf.random.set_seed(seed)\n",
        "  np.random.seed(seed)\n",
        "  random.seed(seed)"
      ]
    },
    {
      "cell_type": "markdown",
      "metadata": {},
      "source": [
        "# CapsNet"
      ]
    },
    {
      "cell_type": "code",
      "execution_count": 39,
      "metadata": {
        "id": "EoK16mBhPGRS"
      },
      "outputs": [],
      "source": [
        "class Length(layers.Layer):\n",
        "    \"\"\"\n",
        "    Compute the length of vectors. This is used to compute a Tensor that has the same shape with y_true in margin_loss.\n",
        "    Using this layer as model's output can directly predict labels by using `y_pred = np.argmax(model.predict(x), 1)`\n",
        "    inputs: shape=[None, num_vectors, dim_vector]\n",
        "    output: shape=[None, num_vectors]\n",
        "    \"\"\"\n",
        "    def call(self, inputs, **kwargs):\n",
        "        return tf.sqrt(tf.reduce_sum(tf.square(inputs), -1) + K.epsilon())\n",
        "\n",
        "    def compute_output_shape(self, input_shape):\n",
        "        return input_shape[:-1]\n",
        "\n",
        "    def get_config(self):\n",
        "        config = super(Length, self).get_config()\n",
        "        return config\n",
        "\n",
        "\n",
        "def squash(vectors, axis=-1):\n",
        "    \"\"\"\n",
        "    Vector length is treated as probability which should lies between 0 and 1. This\n",
        "    function brings the vector length in the range of 0 and 1\n",
        "    :param vectors: vectors to be squashed, N-dim tensor\n",
        "    :param axis: the axis to squash\n",
        "    :return: a Tensor with same shape as input vectors\n",
        "    \"\"\"\n",
        "    s_squared_norm = tf.reduce_sum(tf.square(vectors), axis, keepdims=True)\n",
        "    scale = s_squared_norm / (1 + s_squared_norm) / tf.sqrt(s_squared_norm + K.epsilon())\n",
        "    return scale * vectors\n",
        "\n",
        "\n",
        "class CapsuleLayer(layers.Layer):\n",
        "    \"\"\"\n",
        "    The capsule layer. It is similar to Dense layer. Dense layer has `in_num` inputs, each is a scalar, the output of the\n",
        "    neuron from the former layer, and it has `out_num` output neurons. CapsuleLayer just expand the output of the neuron\n",
        "    from scalar to vector. So its input shape = [None, input_num_capsule, input_dim_capsule] and output shape = \\\n",
        "    [None, num_capsule, dim_capsule]. For Dense Layer, input_dim_capsule = dim_capsule = 1.\n",
        "    :param num_capsule: number of capsules in this layer\n",
        "    :param dim_capsule: dimension of the output vectors of the capsules in this layer\n",
        "    :param routings: number of iterations for the routing algorithm\n",
        "    \"\"\"\n",
        "    def __init__(self, num_capsule, dim_capsule, routings=3,\n",
        "                 kernel_initializer='glorot_uniform',\n",
        "                 **kwargs):\n",
        "        super(CapsuleLayer, self).__init__(**kwargs)\n",
        "        self.num_capsule = num_capsule\n",
        "        self.dim_capsule = dim_capsule\n",
        "        self.routings = routings\n",
        "        self.kernel_initializer = initializers.get(kernel_initializer)\n",
        "\n",
        "    def build(self, input_shape):\n",
        "        assert len(input_shape) >= 3, \"The input Tensor should have shape=[None, input_num_capsule, input_dim_capsule]\"\n",
        "        self.input_num_capsule = input_shape[1]\n",
        "        self.input_dim_capsule = input_shape[2]\n",
        "\n",
        "        # Transform matrix, from each input capsule to each output capsule, there's a unique weight as in Dense layer.\n",
        "        self.W = self.add_weight(shape=[self.num_capsule, self.input_num_capsule,\n",
        "                                        self.dim_capsule, self.input_dim_capsule],\n",
        "                                 initializer=self.kernel_initializer,\n",
        "                                 name='W')\n",
        "\n",
        "        self.built = True\n",
        "\n",
        "    def call(self, inputs, training=None):\n",
        "        # inputs.shape=[None, input_num_capsule, input_dim_capsule]\n",
        "        # inputs_expand.shape=[None, 1, input_num_capsule, input_dim_capsule, 1]\n",
        "        inputs_expand = tf.expand_dims(tf.expand_dims(inputs, 1), -1)\n",
        "\n",
        "        # Replicate num_capsule dimension to prepare being multiplied by W\n",
        "        # inputs_tiled.shape=[None, num_capsule, input_num_capsule, input_dim_capsule, 1]\n",
        "        inputs_tiled = tf.tile(inputs_expand, [1, self.num_capsule, 1, 1, 1])\n",
        "\n",
        "        # Compute `inputs * W` by scanning inputs_tiled on dimension 0.\n",
        "        # W.shape=[num_capsule, input_num_capsule, dim_capsule, input_dim_capsule]\n",
        "        # x.shape=[num_capsule, input_num_capsule, input_dim_capsule, 1]\n",
        "        # Regard the first two dimensions as `batch` dimension, then\n",
        "        # matmul(W, x): [..., dim_capsule, input_dim_capsule] x [..., input_dim_capsule, 1] -> [..., dim_capsule, 1].\n",
        "        # inputs_hat.shape = [None, num_capsule, input_num_capsule, dim_capsule]\n",
        "        inputs_hat = tf.squeeze(tf.map_fn(lambda x: tf.matmul(self.W, x), elems=inputs_tiled))\n",
        "\n",
        "        # Begin: Routing algorithm ---------------------------------------------------------------------#\n",
        "        # The prior for coupling coefficient, initialized as zeros.\n",
        "        # b.shape = [None, self.num_capsule, 1, self.input_num_capsule].\n",
        "        b = tf.zeros(shape=[inputs.shape[0], self.num_capsule, 1, self.input_num_capsule])\n",
        "\n",
        "        assert self.routings > 0, 'The routings should be > 0.'\n",
        "        for i in range(self.routings):\n",
        "            # c.shape=[batch_size, num_capsule, 1, input_num_capsule]\n",
        "            c = tf.nn.softmax(b, axis=1)\n",
        "\n",
        "            # c.shape = [batch_size, num_capsule, 1, input_num_capsule]\n",
        "            # inputs_hat.shape=[None, num_capsule, input_num_capsule, dim_capsule]\n",
        "            # The first two dimensions as `batch` dimension,\n",
        "            # then matmal: [..., 1, input_num_capsule] x [..., input_num_capsule, dim_capsule] -> [..., 1, dim_capsule].\n",
        "            # outputs.shape=[None, num_capsule, 1, dim_capsule]\n",
        "            outputs = squash(tf.matmul(c, inputs_hat))  # [None, 10, 1, 16]\n",
        "\n",
        "            if i < self.routings - 1:\n",
        "                # outputs.shape =  [None, num_capsule, 1, dim_capsule]\n",
        "                # inputs_hat.shape=[None, num_capsule, input_num_capsule, dim_capsule]\n",
        "                # The first two dimensions as `batch` dimension, then\n",
        "                # matmal:[..., 1, dim_capsule] x [..., input_num_capsule, dim_capsule]^T -> [..., 1, input_num_capsule].\n",
        "                # b.shape=[batch_size, num_capsule, 1, input_num_capsule]\n",
        "                b += tf.matmul(outputs, inputs_hat, transpose_b=True)\n",
        "        # End: Routing algorithm -----------------------------------------------------------------------#\n",
        "\n",
        "        return tf.squeeze(outputs)\n",
        "\n",
        "    def compute_output_shape(self, input_shape):\n",
        "        return tuple([None, self.num_capsule, self.dim_capsule])\n",
        "\n",
        "    def get_config(self):\n",
        "        config = {\n",
        "            'num_capsule': self.num_capsule,\n",
        "            'dim_capsule': self.dim_capsule,\n",
        "            'routings': self.routings\n",
        "        }\n",
        "        base_config = super(CapsuleLayer, self).get_config()\n",
        "        return dict(list(base_config.items()) + list(config.items()))\n",
        "\n",
        "\n",
        "def PrimaryCap(inputs, dim_capsule, n_channels, kernel_size, strides, padding):\n",
        "    \"\"\"\n",
        "    Apply Conv2D `n_channels` times and concatenate all capsules\n",
        "    :param inputs: 4D tensor, shape=[None, width, height, channels]\n",
        "    :param dim_capsule: the dim of the output vector of capsule\n",
        "    :param n_channels: the number of types of capsules\n",
        "    :return: output tensor, shape=[None, num_capsule, dim_capsule]\n",
        "    \"\"\"\n",
        "    output = layers.Conv2D(filters=dim_capsule*n_channels, kernel_size=kernel_size, strides=strides, padding=padding,\n",
        "                           name='primarycap_conv2d')(inputs)\n",
        "    outputs = layers.Reshape(target_shape=[-1, dim_capsule], name='primarycap_reshape')(output)\n",
        "    return layers.Lambda(squash, name='primarycap_squash')(outputs)"
      ]
    },
    {
      "cell_type": "code",
      "execution_count": 40,
      "metadata": {
        "id": "qXI2tda2PJBK"
      },
      "outputs": [],
      "source": [
        "K.set_image_data_format('channels_last')"
      ]
    },
    {
      "cell_type": "code",
      "execution_count": 41,
      "metadata": {
        "id": "E82BfKyPPMgs"
      },
      "outputs": [],
      "source": [
        "class CapsuleNet:\n",
        "  @staticmethod\n",
        "  def build(input_shape,number_of_class,routing_count,batch_size,\n",
        "            n_channels = 32,dim_capsule=16,\n",
        "            kernels=[9],filters=[256],strides=[1],\n",
        "            multi_level_feature_extraction = False):\n",
        "    \n",
        "   \n",
        "\n",
        "   #:param input_shape: data shape, 3d, [width, height, channels]\n",
        "   #:param number_of_class: number of classes\n",
        "   #:param routing_count: number of routing iterations\n",
        "   #:param batch_size: size of batch\n",
        "   #:return: Two Keras Models, the first one used for training, and the second one for evaluation.\n",
        "   #        `eval_model` can also be used for training.\n",
        "   \n",
        "\n",
        "   input = layers.Input(shape=input_shape, batch_size=batch_size)  \n",
        "\n",
        "  \n",
        "   #THis part if for experimentation\n",
        "   if multi_level_feature_extraction == True:\n",
        "      conv1_1 = layers.Conv2D(filters=128, \n",
        "                             kernel_size=9,                              \n",
        "                             padding='valid', \n",
        "                             activation='relu')(input)\n",
        "      \n",
        "      conv2_1 = layers.Conv2D(filters=128, \n",
        "                             kernel_size=9,                              \n",
        "                             padding='valid', \n",
        "                             activation='relu')(input)\n",
        "      \n",
        "      conv2_2 = layers.Conv2D(filters=128, \n",
        "                             kernel_size=5,                              \n",
        "                             padding='valid', \n",
        "                             activation='relu')(conv1_1)\n",
        "      print(f\"conv2_2:{conv2_2.shape}\")                             \n",
        "                                                                   \n",
        "      conv = layers.concatenate([conv1_1, conv2_1])\n",
        "   else:\n",
        "      # Basic core model\n",
        "      for index in range(len(kernels)):\n",
        "          if index == 0 :\n",
        "            conv = layers.Conv2D(filters=filters[index], \n",
        "                                kernel_size=kernels[index], \n",
        "                                strides=strides[index], \n",
        "                                padding='valid', \n",
        "                                activation='relu', \n",
        "                                name='conv'+str(index))(input)\n",
        "          else:\n",
        "            conv = layers.Conv2D(filters=filters[index], \n",
        "                                kernel_size=kernels[index], \n",
        "                                strides=strides[index], \n",
        "                                padding='valid', \n",
        "                                activation='relu', \n",
        "                                name='conv'+str(index))(conv)\n",
        "  \n",
        "   \n",
        "   conv_1 = layers.Conv2D(filters=dim_capsule*n_channels, \n",
        "                             kernel_size=kernels[-1], \n",
        "                             strides=strides[-1], \n",
        "                             padding='valid', \n",
        "                             activation='relu', \n",
        "                             name='primary_capsule_conv')(conv)\n",
        "\n",
        "   \n",
        "    \n",
        "   conv_2 = layers.Reshape(target_shape=[-1, dim_capsule], name='primarycap_reshape')(conv_1)\n",
        "   primary_capsule = layers.Lambda(squash,name = 'primary_capsule')(conv_2)\n",
        "   digitcaps = CapsuleLayer(num_capsule=number_of_class, \n",
        "                             dim_capsule=dim_capsule, \n",
        "                             routings=routing_count, \n",
        "                             name='digitcaps')(primary_capsule)    \n",
        "   out_caps = Length(name='capsnet')(digitcaps)\n",
        "   train_model = models.Model(input,outputs=out_caps)\n",
        "   return train_model"
      ]
    },
    {
      "cell_type": "code",
      "execution_count": 42,
      "metadata": {
        "id": "oyX5fakzPPGa"
      },
      "outputs": [],
      "source": [
        "def margin_loss(y_true, y_pred):\n",
        "    \n",
        "    L = y_true * tf.square(tf.maximum(0., 0.9 - y_pred)) + \\\n",
        "        0.5 * (1 - y_true) * tf.square(tf.maximum(0., y_pred - 0.1))\n",
        "    return tf.reduce_mean(tf.reduce_sum(L, 1))"
      ]
    },
    {
      "cell_type": "markdown",
      "metadata": {},
      "source": [
        "# Train"
      ]
    },
    {
      "cell_type": "code",
      "execution_count": 55,
      "metadata": {
        "id": "YdHPS8gxPW3J"
      },
      "outputs": [],
      "source": [
        "# Train Capsule Network\n",
        "@tf.autograph.experimental.do_not_convert\n",
        "def train(model, data, args):\n",
        "    \"\"\"\n",
        "    Training a CapsuleNet\n",
        "    @param model: the CapsuleNet model\n",
        "    @param data: a tuple containing training and testing data, like `((x_train, y_train), (x_test, y_test))`\n",
        "    @param args: arguments\n",
        "    return: The trained model\n",
        "    \"\"\"\n",
        "    # unpacking the data\n",
        "    (x_train, y_train), (x_test, y_test) = data\n",
        "\n",
        "    # callbacks to save the best model   \n",
        "    checkpoint = callbacks.ModelCheckpoint(args.save_dir + '/weights.h5', monitor='val_accuracy',\n",
        "                                           save_best_only=True, save_weights_only=True, verbose=1)    \n",
        "    # compile the model\n",
        "    model.compile(optimizer=optimizers.Adam(lr=args.lr),\n",
        "                  loss=[margin_loss, 'mse'],\n",
        "                  loss_weights=[1., args.lam_recon],run_eagerly=True,\n",
        "                  metrics={'capsnet': 'accuracy'})\n",
        "\n",
        "    # Train the model\n",
        "    train_image_generator = ImageDataGenerator()  \n",
        "    train_data_generator = train_image_generator.flow(x_train, y_train, batch_size=args.batch_size)\n",
        "    val_image_generator = ImageDataGenerator()\n",
        "    val_data_generator = val_image_generator.flow(x_test,y_test,batch_size = args.batch_size)\n",
        "   \n",
        "    history = model.fit(train_data_generator,\n",
        "              steps_per_epoch=int(y_train.shape[0] / args.batch_size),\n",
        "              epochs=args.epochs,              \n",
        "              validation_data=val_data_generator, batch_size=args.batch_size,\n",
        "              callbacks=[checkpoint])\n",
        " \n",
        "    index = history.history[\"val_accuracy\"].index(max(history.history[\"val_accuracy\"]))\n",
        "    best_val_accuracy = history.history[\"val_accuracy\"][index]    \n",
        "    print(f\"Best Validation Accuracy:{best_val_accuracy}\") \n",
        "    plot_model_performance(history)\n",
        "   \n",
        "    return model"
      ]
    },
    {
      "cell_type": "markdown",
      "metadata": {},
      "source": [
        "# Plot Model Performance"
      ]
    },
    {
      "cell_type": "code",
      "execution_count": 44,
      "metadata": {
        "id": "6xZ-c3FSTAIl"
      },
      "outputs": [],
      "source": [
        "from matplotlib import pyplot as plt\n",
        "def plot_model_performance(history):\n",
        "  plt.style.use(\"ggplot\")\n",
        "  plt.figure(figsize=(7,6))\n",
        "  epoch_ran = len(history.history[\"loss\"])\n",
        "  plt.plot(np.arange(0, epoch_ran), \\\n",
        "           history.history[\"loss\"], label=\"train_loss\")\n",
        "  plt.plot(np.arange(0, epoch_ran), \\\n",
        "           history.history[\"val_loss\"], label=\"val_loss\")\n",
        "  plt.plot(np.arange(0, epoch_ran), \\\n",
        "           history.history[\"accuracy\"], label=\"train_acc\")\n",
        "  plt.plot(np.arange(0, epoch_ran), \\\n",
        "           history.history[\"val_accuracy\"], label=\"val_acc\")\n",
        "  plt.title(\"Training Loss and Accuracy\")\n",
        "  plt.xlabel(\"Epoch #\")\n",
        "  plt.ylabel(\"Loss/Accuracy\")\n",
        "  plt.legend()\n",
        "  plt.show()"
      ]
    },
    {
      "cell_type": "markdown",
      "metadata": {},
      "source": [
        "# Train and Test The Model"
      ]
    },
    {
      "cell_type": "code",
      "execution_count": 45,
      "metadata": {
        "id": "adBprKL9PZsU"
      },
      "outputs": [],
      "source": [
        "@tf.autograph.experimental.do_not_convert\n",
        "def get_model_train_test(data,args,n_channels = 32,\n",
        "                                      dim_capsule=16,\n",
        "                                      kernels=[9],\n",
        "                                      filters=[256],\n",
        "                                      strides=[1],\n",
        "                                      multi_level_feature_extraction = False):\n",
        "  set_seed()\n",
        "  (x_train,y_train),(x_test,y_test) = data\n",
        "  # Build the model\n",
        "  model = CapsuleNet.build(input_shape=x_train.shape[1:], \n",
        "                                      number_of_class=len(np.unique(np.argmax(y_train, 1))),\n",
        "                                      routing_count=args.routings,\n",
        "                                      batch_size=args.batch_size,\n",
        "                                      n_channels=n_channels,\n",
        "                                      dim_capsule = dim_capsule,\n",
        "                                      kernels = kernels,\n",
        "                                      filters= filters,\n",
        "                                      strides = strides,\n",
        "                                      multi_level_feature_extraction=multi_level_feature_extraction)\n",
        "\n",
        "  model.summary()\n",
        "  # Train the model\n",
        "  trained_model = train(model=model, data=((x_train, y_train), (x_test, y_test)), args=args)\n",
        "  #Load the weight where accuracy was maximum\n",
        "  trained_model.load_weights(f'./result/weights.h5')\n",
        "  # Model Training Done\n",
        "  #Prediction and calculate the matrix value\n",
        " \n",
        "  y_pred= trained_model.predict(x_test,batch_size=x_test.shape[0])\n",
        "  \n",
        "  print(\"*******Model Performance*************\")\n",
        "  print('Test acc:', np.sum(np.argmax(y_pred, 1) == np.argmax(y_test, 1)) / y_test.shape[0])  \n",
        "\n",
        " \n",
        "  result_pred = np.argmax(y_pred, axis=1) \n",
        "  result_actual = np.argmax(y_test, axis=1) \n",
        "  precision = precision_score(result_actual, result_pred)\n",
        "  recall = recall_score(result_actual, result_pred)\n",
        "  f1 = f1_score(result_actual, result_pred)\n",
        "  tn, fp, fn, tp = confusion_matrix(result_actual, result_pred).ravel()\n",
        "  fpr, tpr, thresholds = metrics.roc_curve(result_actual, result_pred)\n",
        "  auc = metrics.auc(fpr, tpr)\n",
        "  \n",
        "  print(f\"Precision:{precision}\")\n",
        "  print(f\"recall:{recall}\")\n",
        "  print(f\"f1:{f1}\")\n",
        "  print(f\"AUC:{auc}\")\n",
        "  print(f\"Sensitivity:{tp/(tp+fn)}\")\n",
        "  print(f\"specificity:{tn/(tn+fp)}\")"
      ]
    },
    {
      "cell_type": "markdown",
      "metadata": {},
      "source": [
        "# Arguments"
      ]
    },
    {
      "cell_type": "code",
      "execution_count": 46,
      "metadata": {
        "colab": {
          "base_uri": "https://localhost:8080/"
        },
        "id": "0GBOXY-cPcp9",
        "outputId": "bd58da18-0761-49d5-f6aa-8387639ebd29"
      },
      "outputs": [],
      "source": [
        "import argparse\n",
        "import os\n",
        "def get_arguments():\n",
        "    parser = argparse.ArgumentParser(description=\"Capsule Network Glaucoma Classification.\")\n",
        "    parser.add_argument('--epochs', default=15, type=int)\n",
        "    parser.add_argument('--batch_size', default=32, type=int)\n",
        "    parser.add_argument('--lr', default=0.0001, type=float,\n",
        "                            help=\"Initial learning rate\")\n",
        "    parser.add_argument('--lr_decay', default=1, type=float,\n",
        "                        help=\"The value multiplied by lr at each epoch. Set a larger value for larger epochs\")\n",
        "    parser.add_argument('--lam_recon', default=0.392, type=float,\n",
        "                        help=\"The coefficient for the loss of decoder\")\n",
        "    parser.add_argument('-r', '--routings', default=1, type=int,\n",
        "                        help=\"Number of iterations used in routing algorithm. should > 0\")\n",
        "    parser.add_argument('--shift_fraction', default=0.1, type=float,\n",
        "                        help=\"Fraction of pixels to shift at most in each direction.\")\n",
        "    parser.add_argument('--debug', action='store_true',\n",
        "                        help=\"Save weights by TensorBoard\")\n",
        "    parser.add_argument('--save_dir', default='./result')\n",
        "    parser.add_argument('--augmentation', default=False, type=bool)\n",
        "    parser.add_argument('-t', '--testing', action='store_true',\n",
        "                        help=\"Test the trained model on testing dataset\")\n",
        "    parser.add_argument('--digit', default=5, type=int,\n",
        "                        help=\"Digit to manipulate\")\n",
        "    parser.add_argument('-w', '--weights', default=None,\n",
        "                        help=\"The path of the saved weights. Should be specified when testing\")\n",
        "    args, unknown = parser.parse_known_args()\n",
        "    print(args)\n",
        "\n",
        "    if not os.path.exists(args.save_dir):\n",
        "        os.makedirs(args.save_dir)\n",
        "    \n",
        "    return args"
      ]
    },
    {
      "cell_type": "code",
      "execution_count": 13,
      "metadata": {
        "colab": {
          "base_uri": "https://localhost:8080/"
        },
        "id": "7TqPDF3CPfXD",
        "outputId": "64ebaafc-4bf2-4eb8-b0c0-d759f94d1389"
      },
      "outputs": [
        {
          "name": "stdout",
          "output_type": "stream",
          "text": [
            "Mounted at /content/gdrive\n"
          ]
        }
      ],
      "source": [
        "from google.colab import drive\n",
        "drive.mount('/content/gdrive')"
      ]
    },
    {
      "cell_type": "markdown",
      "metadata": {},
      "source": [
        "# Load DataSet"
      ]
    },
    {
      "cell_type": "code",
      "execution_count": 47,
      "metadata": {
        "id": "M0nhOrBrPhgJ"
      },
      "outputs": [],
      "source": [
        "#RIM_ONE_DL_DIR = '/content/gdrive/My Drive/dataset/rim_one_dl/partitioned_randomly'\n",
        "RIM_ONE_DL_DIR = 'C:\\gyani\\Projects_MS\\code\\dataset\\RIM-ONE_DL_images\\partitioned_randomly'"
      ]
    },
    {
      "cell_type": "markdown",
      "metadata": {},
      "source": [
        "Image Size"
      ]
    },
    {
      "cell_type": "code",
      "execution_count": 48,
      "metadata": {
        "id": "CT-twjrAPjkm"
      },
      "outputs": [],
      "source": [
        "HEIGHT= 32\n",
        "WIDTH = 32"
      ]
    },
    {
      "cell_type": "markdown",
      "metadata": {},
      "source": [
        "Preprocess Image: Generate Array"
      ]
    },
    {
      "cell_type": "code",
      "execution_count": 49,
      "metadata": {
        "id": "rSXuvVrxPlzm"
      },
      "outputs": [],
      "source": [
        "# Resize image to HEIGHT*WIDTH\n",
        "# Convert to numpy array\n",
        "def process_image(data_set_dir, label_dict, width,height,histogram_eq = False):\n",
        "    \n",
        "    x = [] # will store images as arrays\n",
        "    y = [] # store labels\n",
        "    # list folders in directory\n",
        "    directories = os.listdir(data_set_dir)\n",
        "     \n",
        "    # for each folder (train and validation) \n",
        "    for label in directories:\n",
        "        \n",
        "        # add class label to label dictionary\n",
        "        if label not in label_dict:\n",
        "            label_dict[label] = len(label_dict)\n",
        "        \n",
        "        # create full path for image directory \n",
        "        source_images = os.path.join(data_set_dir, label)\n",
        "        images = os.listdir(source_images)\n",
        "        # for each image in directory, \n",
        "        for image in images:\n",
        "            #folder have .txt files which needs to be ignored\n",
        "            if '.txt'not in image:\n",
        "                # read the image from file, resize and add to a list\n",
        "                full_size_image = cv2.imread(os.path.join(source_images, image))\n",
        "                #gray_image = cv2.cvtColor(full_size_image, cv2.COLOR_BGR2GRAY)\n",
        "                if histogram_eq == True:\n",
        "                  full_size_image_YUW = cv2.cvtColor(full_size_image, cv2.COLOR_BGR2YUV)\n",
        "                  full_size_image_YUW[:,:,0] = cv2.equalizeHist(full_size_image_YUW[:,:,0])\n",
        "                  full_size_image = cv2.cvtColor(full_size_image_YUW, cv2.COLOR_YUV2BGR)\n",
        "                #append the image to x\n",
        "                x.append(cv2.resize(full_size_image, (width,height), \n",
        "                                                            interpolation=cv2.INTER_CUBIC))\n",
        "                # add the class label to y\n",
        "                y.append(label)\n",
        "\n",
        "    data = np.array(x, dtype=\"float\") / 255.0                \n",
        "    label = np.array(y)\n",
        "    \n",
        "    return data,label"
      ]
    },
    {
      "cell_type": "markdown",
      "metadata": {},
      "source": [
        "# RIMONE DL"
      ]
    },
    {
      "cell_type": "code",
      "execution_count": 50,
      "metadata": {
        "id": "amCTmRWhPoVR"
      },
      "outputs": [],
      "source": [
        "def get_rim_one_dl(histogram_eq = False):\n",
        "  class_labels = {}\n",
        "  training_images,training_labels = process_image(RIM_ONE_DL_DIR+\"/training_set\",\n",
        "                                                  class_labels,\n",
        "                                                  WIDTH,HEIGHT,\n",
        "                                                  histogram_eq = histogram_eq)\n",
        "  \n",
        "  training_label = (pd.Series(training_labels).map(class_labels)).values\n",
        "  training_label = to_categorical(training_label.astype('float32'))\n",
        "  training_images = training_images.reshape(-1, WIDTH, WIDTH, 3).astype('float32')\n",
        "\n",
        "  test_images,test_labels = process_image(RIM_ONE_DL_DIR+\"/test_set\",\n",
        "                                          class_labels,\n",
        "                                          WIDTH,HEIGHT,\n",
        "                                          histogram_eq = histogram_eq)\n",
        "  \n",
        "  test_label = (pd.Series(test_labels).map(class_labels)).values\n",
        "  test_label = to_categorical(test_label.astype('float32'))\n",
        "  test_images = test_images.reshape(-1, WIDTH, WIDTH, 3).astype('float32')\n",
        "\n",
        "  return (training_images,training_label),(test_images,test_label)"
      ]
    },
    {
      "cell_type": "code",
      "execution_count": 51,
      "metadata": {
        "id": "526w3jR_Pr3B"
      },
      "outputs": [
        {
          "name": "stdout",
          "output_type": "stream",
          "text": [
            "Namespace(augmentation=False, batch_size=32, debug=False, digit=5, epochs=15, lam_recon=0.392, lr=0.0001, lr_decay=1, routings=1, save_dir='./result', shift_fraction=0.1, testing=False, weights=None)\n"
          ]
        }
      ],
      "source": [
        "args = get_arguments()\n",
        "args.batch_size = 32\n",
        "args.epochs = 50\n",
        "args.routings = 8\n",
        "data = get_rim_one_dl()"
      ]
    },
    {
      "cell_type": "code",
      "execution_count": 56,
      "metadata": {
        "colab": {
          "base_uri": "https://localhost:8080/",
          "height": 1000
        },
        "id": "nytPv3dXPuAD",
        "outputId": "24ae37bf-252a-4fe6-e58c-b0758be45d19"
      },
      "outputs": [
        {
          "name": "stdout",
          "output_type": "stream",
          "text": [
            "Model: \"model_6\"\n",
            "_________________________________________________________________\n",
            "Layer (type)                 Output Shape              Param #   \n",
            "=================================================================\n",
            "input_7 (InputLayer)         [(32, 32, 32, 3)]         0         \n",
            "_________________________________________________________________\n",
            "conv0 (Conv2D)               (32, 24, 24, 256)         62464     \n",
            "_________________________________________________________________\n",
            "primary_capsule_conv (Conv2D (32, 16, 16, 512)         10617344  \n",
            "_________________________________________________________________\n",
            "primarycap_reshape (Reshape) (32, 8192, 16)            0         \n",
            "_________________________________________________________________\n",
            "primary_capsule (Lambda)     (32, 8192, 16)            0         \n",
            "_________________________________________________________________\n",
            "digitcaps (CapsuleLayer)     (32, 2, 16)               4194304   \n",
            "_________________________________________________________________\n",
            "capsnet (Length)             (32, 2)                   0         \n",
            "=================================================================\n",
            "Total params: 14,874,112\n",
            "Trainable params: 14,874,112\n",
            "Non-trainable params: 0\n",
            "_________________________________________________________________\n",
            "Epoch 1/50\n",
            "10/10 [==============================] - 3s 280ms/step - loss: 0.4671 - accuracy: 0.6221 - val_loss: 0.2826 - val_accuracy: 0.6438\n",
            "\n",
            "Epoch 00001: val_accuracy improved from -inf to 0.64384, saving model to ./result\\weights.h5\n",
            "Epoch 2/50\n",
            "10/10 [==============================] - 3s 277ms/step - loss: 0.2727 - accuracy: 0.6482 - val_loss: 0.3022 - val_accuracy: 0.6438\n",
            "\n",
            "Epoch 00002: val_accuracy did not improve from 0.64384\n",
            "Epoch 3/50\n",
            "10/10 [==============================] - 3s 277ms/step - loss: 0.2667 - accuracy: 0.6515 - val_loss: 0.2749 - val_accuracy: 0.6438\n",
            "\n",
            "Epoch 00003: val_accuracy did not improve from 0.64384\n",
            "Epoch 4/50\n",
            "10/10 [==============================] - 3s 277ms/step - loss: 0.2497 - accuracy: 0.6482 - val_loss: 0.2562 - val_accuracy: 0.6438\n",
            "\n",
            "Epoch 00004: val_accuracy did not improve from 0.64384\n",
            "Epoch 5/50\n",
            "10/10 [==============================] - 3s 286ms/step - loss: 0.2337 - accuracy: 0.6515 - val_loss: 0.2291 - val_accuracy: 0.6438\n",
            "\n",
            "Epoch 00005: val_accuracy did not improve from 0.64384\n",
            "Epoch 6/50\n",
            "10/10 [==============================] - 3s 278ms/step - loss: 0.2189 - accuracy: 0.6547 - val_loss: 0.2106 - val_accuracy: 0.6301\n",
            "\n",
            "Epoch 00006: val_accuracy did not improve from 0.64384\n",
            "Epoch 7/50\n",
            "10/10 [==============================] - 3s 280ms/step - loss: 0.2039 - accuracy: 0.6287 - val_loss: 0.2692 - val_accuracy: 0.4932\n",
            "\n",
            "Epoch 00007: val_accuracy did not improve from 0.64384\n",
            "Epoch 8/50\n",
            "10/10 [==============================] - 3s 288ms/step - loss: 0.2300 - accuracy: 0.6384 - val_loss: 0.2409 - val_accuracy: 0.6438\n",
            "\n",
            "Epoch 00008: val_accuracy did not improve from 0.64384\n",
            "Epoch 9/50\n",
            "10/10 [==============================] - 3s 290ms/step - loss: 0.2313 - accuracy: 0.6417 - val_loss: 0.2286 - val_accuracy: 0.6438\n",
            "\n",
            "Epoch 00009: val_accuracy did not improve from 0.64384\n",
            "Epoch 10/50\n",
            "10/10 [==============================] - 3s 290ms/step - loss: 0.2072 - accuracy: 0.6500 - val_loss: 0.1968 - val_accuracy: 0.6438\n",
            "\n",
            "Epoch 00010: val_accuracy did not improve from 0.64384\n",
            "Epoch 11/50\n",
            "10/10 [==============================] - 3s 289ms/step - loss: 0.1875 - accuracy: 0.6547 - val_loss: 0.1851 - val_accuracy: 0.6370\n",
            "\n",
            "Epoch 00011: val_accuracy did not improve from 0.64384\n",
            "Epoch 12/50\n",
            "10/10 [==============================] - 3s 296ms/step - loss: 0.1754 - accuracy: 0.7003 - val_loss: 0.1896 - val_accuracy: 0.6644\n",
            "\n",
            "Epoch 00012: val_accuracy improved from 0.64384 to 0.66438, saving model to ./result\\weights.h5\n",
            "Epoch 13/50\n",
            "10/10 [==============================] - 3s 314ms/step - loss: 0.1671 - accuracy: 0.7068 - val_loss: 0.1648 - val_accuracy: 0.6986\n",
            "\n",
            "Epoch 00013: val_accuracy improved from 0.66438 to 0.69863, saving model to ./result\\weights.h5\n",
            "Epoch 14/50\n",
            "10/10 [==============================] - 3s 324ms/step - loss: 0.1744 - accuracy: 0.6938 - val_loss: 0.1763 - val_accuracy: 0.6507\n",
            "\n",
            "Epoch 00014: val_accuracy did not improve from 0.69863\n",
            "Epoch 15/50\n",
            "10/10 [==============================] - 3s 331ms/step - loss: 0.1638 - accuracy: 0.7166 - val_loss: 0.1581 - val_accuracy: 0.7123\n",
            "\n",
            "Epoch 00015: val_accuracy improved from 0.69863 to 0.71233, saving model to ./result\\weights.h5\n",
            "Epoch 16/50\n",
            "10/10 [==============================] - 3s 327ms/step - loss: 0.1520 - accuracy: 0.7329 - val_loss: 0.1375 - val_accuracy: 0.7740\n",
            "\n",
            "Epoch 00016: val_accuracy improved from 0.71233 to 0.77397, saving model to ./result\\weights.h5\n",
            "Epoch 17/50\n",
            "10/10 [==============================] - 3s 320ms/step - loss: 0.1358 - accuracy: 0.7459 - val_loss: 0.1435 - val_accuracy: 0.7466\n",
            "\n",
            "Epoch 00017: val_accuracy did not improve from 0.77397\n",
            "Epoch 18/50\n",
            "10/10 [==============================] - 3s 321ms/step - loss: 0.1221 - accuracy: 0.7785 - val_loss: 0.1158 - val_accuracy: 0.8082\n",
            "\n",
            "Epoch 00018: val_accuracy improved from 0.77397 to 0.80822, saving model to ./result\\weights.h5\n",
            "Epoch 19/50\n",
            "10/10 [==============================] - 3s 320ms/step - loss: 0.1094 - accuracy: 0.8371 - val_loss: 0.1073 - val_accuracy: 0.8288\n",
            "\n",
            "Epoch 00019: val_accuracy improved from 0.80822 to 0.82877, saving model to ./result\\weights.h5\n",
            "Epoch 20/50\n",
            "10/10 [==============================] - 3s 320ms/step - loss: 0.1068 - accuracy: 0.8176 - val_loss: 0.1072 - val_accuracy: 0.8288\n",
            "\n",
            "Epoch 00020: val_accuracy did not improve from 0.82877\n",
            "Epoch 21/50\n",
            "10/10 [==============================] - 3s 321ms/step - loss: 0.1081 - accuracy: 0.8306 - val_loss: 0.1119 - val_accuracy: 0.8288\n",
            "\n",
            "Epoch 00021: val_accuracy did not improve from 0.82877\n",
            "Epoch 22/50\n",
            "10/10 [==============================] - 3s 322ms/step - loss: 0.0983 - accuracy: 0.8438 - val_loss: 0.1010 - val_accuracy: 0.8562\n",
            "\n",
            "Epoch 00022: val_accuracy improved from 0.82877 to 0.85616, saving model to ./result\\weights.h5\n",
            "Epoch 23/50\n",
            "10/10 [==============================] - 3s 319ms/step - loss: 0.0968 - accuracy: 0.8404 - val_loss: 0.0947 - val_accuracy: 0.8767\n",
            "\n",
            "Epoch 00023: val_accuracy improved from 0.85616 to 0.87671, saving model to ./result\\weights.h5\n",
            "Epoch 24/50\n",
            "10/10 [==============================] - 3s 318ms/step - loss: 0.0975 - accuracy: 0.8469 - val_loss: 0.0995 - val_accuracy: 0.8425\n",
            "\n",
            "Epoch 00024: val_accuracy did not improve from 0.87671\n",
            "Epoch 25/50\n",
            "10/10 [==============================] - 3s 319ms/step - loss: 0.0916 - accuracy: 0.8502 - val_loss: 0.1112 - val_accuracy: 0.8493\n",
            "\n",
            "Epoch 00025: val_accuracy did not improve from 0.87671\n",
            "Epoch 26/50\n",
            "10/10 [==============================] - 3s 326ms/step - loss: 0.0904 - accuracy: 0.8664 - val_loss: 0.0982 - val_accuracy: 0.8767\n",
            "\n",
            "Epoch 00026: val_accuracy did not improve from 0.87671\n",
            "Epoch 27/50\n",
            "10/10 [==============================] - 3s 347ms/step - loss: 0.0857 - accuracy: 0.8632 - val_loss: 0.1025 - val_accuracy: 0.8356\n",
            "\n",
            "Epoch 00027: val_accuracy did not improve from 0.87671\n",
            "Epoch 28/50\n",
            "10/10 [==============================] - 3s 323ms/step - loss: 0.0876 - accuracy: 0.8656 - val_loss: 0.0917 - val_accuracy: 0.8836\n",
            "\n",
            "Epoch 00028: val_accuracy improved from 0.87671 to 0.88356, saving model to ./result\\weights.h5\n",
            "Epoch 29/50\n",
            "10/10 [==============================] - 3s 323ms/step - loss: 0.0882 - accuracy: 0.8632 - val_loss: 0.0994 - val_accuracy: 0.8288\n",
            "\n",
            "Epoch 00029: val_accuracy did not improve from 0.88356\n",
            "Epoch 30/50\n",
            "10/10 [==============================] - 3s 325ms/step - loss: 0.0861 - accuracy: 0.8664 - val_loss: 0.0873 - val_accuracy: 0.8836\n",
            "\n",
            "Epoch 00030: val_accuracy did not improve from 0.88356\n",
            "Epoch 31/50\n",
            "10/10 [==============================] - 3s 325ms/step - loss: 0.0850 - accuracy: 0.8827 - val_loss: 0.0930 - val_accuracy: 0.8699\n",
            "\n",
            "Epoch 00031: val_accuracy did not improve from 0.88356\n",
            "Epoch 32/50\n",
            "10/10 [==============================] - 3s 320ms/step - loss: 0.0862 - accuracy: 0.8827 - val_loss: 0.0968 - val_accuracy: 0.8699\n",
            "\n",
            "Epoch 00032: val_accuracy did not improve from 0.88356\n",
            "Epoch 33/50\n",
            "10/10 [==============================] - 3s 320ms/step - loss: 0.0840 - accuracy: 0.8795 - val_loss: 0.0936 - val_accuracy: 0.8904\n",
            "\n",
            "Epoch 00033: val_accuracy improved from 0.88356 to 0.89041, saving model to ./result\\weights.h5\n",
            "Epoch 34/50\n",
            "10/10 [==============================] - 3s 321ms/step - loss: 0.0778 - accuracy: 0.8795 - val_loss: 0.0950 - val_accuracy: 0.8562\n",
            "\n",
            "Epoch 00034: val_accuracy did not improve from 0.89041\n",
            "Epoch 35/50\n",
            "10/10 [==============================] - 3s 320ms/step - loss: 0.0772 - accuracy: 0.8762 - val_loss: 0.0921 - val_accuracy: 0.8425\n",
            "\n",
            "Epoch 00035: val_accuracy did not improve from 0.89041\n",
            "Epoch 36/50\n",
            "10/10 [==============================] - 3s 319ms/step - loss: 0.0729 - accuracy: 0.8893 - val_loss: 0.0905 - val_accuracy: 0.8836\n",
            "\n",
            "Epoch 00036: val_accuracy did not improve from 0.89041\n",
            "Epoch 37/50\n",
            "10/10 [==============================] - 3s 321ms/step - loss: 0.0785 - accuracy: 0.8762 - val_loss: 0.0909 - val_accuracy: 0.8767\n",
            "\n",
            "Epoch 00037: val_accuracy did not improve from 0.89041\n",
            "Epoch 38/50\n",
            "10/10 [==============================] - 3s 320ms/step - loss: 0.0758 - accuracy: 0.8958 - val_loss: 0.0886 - val_accuracy: 0.8699\n",
            "\n",
            "Epoch 00038: val_accuracy did not improve from 0.89041\n",
            "Epoch 39/50\n",
            "10/10 [==============================] - 3s 320ms/step - loss: 0.0700 - accuracy: 0.8893 - val_loss: 0.0990 - val_accuracy: 0.8562\n",
            "\n",
            "Epoch 00039: val_accuracy did not improve from 0.89041\n",
            "Epoch 40/50\n",
            "10/10 [==============================] - 3s 319ms/step - loss: 0.0764 - accuracy: 0.8762 - val_loss: 0.0906 - val_accuracy: 0.8699\n",
            "\n",
            "Epoch 00040: val_accuracy did not improve from 0.89041\n",
            "Epoch 41/50\n",
            "10/10 [==============================] - 3s 325ms/step - loss: 0.0759 - accuracy: 0.8795 - val_loss: 0.0881 - val_accuracy: 0.8836\n",
            "\n",
            "Epoch 00041: val_accuracy did not improve from 0.89041\n",
            "Epoch 42/50\n",
            "10/10 [==============================] - 3s 325ms/step - loss: 0.0722 - accuracy: 0.8893 - val_loss: 0.0873 - val_accuracy: 0.8836\n",
            "\n",
            "Epoch 00042: val_accuracy did not improve from 0.89041\n",
            "Epoch 43/50\n",
            "10/10 [==============================] - 3s 320ms/step - loss: 0.0652 - accuracy: 0.9023 - val_loss: 0.0912 - val_accuracy: 0.8630\n",
            "\n",
            "Epoch 00043: val_accuracy did not improve from 0.89041\n",
            "Epoch 44/50\n",
            "10/10 [==============================] - 3s 320ms/step - loss: 0.0684 - accuracy: 0.8925 - val_loss: 0.0877 - val_accuracy: 0.8836\n",
            "\n",
            "Epoch 00044: val_accuracy did not improve from 0.89041\n",
            "Epoch 45/50\n",
            "10/10 [==============================] - 3s 320ms/step - loss: 0.0693 - accuracy: 0.8893 - val_loss: 0.0916 - val_accuracy: 0.8767\n",
            "\n",
            "Epoch 00045: val_accuracy did not improve from 0.89041\n",
            "Epoch 46/50\n",
            "10/10 [==============================] - 3s 325ms/step - loss: 0.0644 - accuracy: 0.8990 - val_loss: 0.0828 - val_accuracy: 0.8836\n",
            "\n",
            "Epoch 00046: val_accuracy did not improve from 0.89041\n",
            "Epoch 47/50\n",
            "10/10 [==============================] - 3s 320ms/step - loss: 0.0656 - accuracy: 0.9088 - val_loss: 0.0855 - val_accuracy: 0.8836\n",
            "\n",
            "Epoch 00047: val_accuracy did not improve from 0.89041\n",
            "Epoch 48/50\n",
            "10/10 [==============================] - 3s 328ms/step - loss: 0.0699 - accuracy: 0.9088 - val_loss: 0.0937 - val_accuracy: 0.8562\n",
            "\n",
            "Epoch 00048: val_accuracy did not improve from 0.89041\n",
            "Epoch 49/50\n",
            "10/10 [==============================] - 4s 376ms/step - loss: 0.0679 - accuracy: 0.8958 - val_loss: 0.0878 - val_accuracy: 0.8630\n",
            "\n",
            "Epoch 00049: val_accuracy did not improve from 0.89041\n",
            "Epoch 50/50\n",
            "10/10 [==============================] - 4s 384ms/step - loss: 0.0635 - accuracy: 0.9088 - val_loss: 0.1052 - val_accuracy: 0.8562\n",
            "\n",
            "Epoch 00050: val_accuracy did not improve from 0.89041\n",
            "Best Validation Accuracy:0.8904109597206116\n"
          ]
        },
        {
          "data": {
            "image/png": "[encoded data removed]",
            "text/plain": [
              "<Figure size 504x432 with 1 Axes>"
            ]
          },
          "metadata": {},
          "output_type": "display_data"
        },
        {
          "name": "stdout",
          "output_type": "stream",
          "text": [
            "*******Model Performance*************\n",
            "Test acc: 0.8904109589041096\n",
            "Precision:0.875\n",
            "recall:0.9680851063829787\n",
            "f1:0.9191919191919191\n",
            "AUC:0.8590425531914894\n",
            "Sensitivity:0.9680851063829787\n",
            "specificity:0.75\n"
          ]
        }
      ],
      "source": [
        "get_model_train_test(data,args)"
      ]
    }
  ],
  "metadata": {
    "accelerator": "GPU",
    "colab": {
      "collapsed_sections": [],
      "name": "capsnetWithoutDeocder.ipynb",
      "provenance": []
    },
    "kernelspec": {
      "display_name": "Python 3",
      "name": "python3"
    },
    "language_info": {
      "codemirror_mode": {
        "name": "ipython",
        "version": 3
      },
      "file_extension": ".py",
      "mimetype": "text/x-python",
      "name": "python",
      "nbconvert_exporter": "python",
      "pygments_lexer": "ipython3",
      "version": "3.8.5"
    }
  },
  "nbformat": 4,
  "nbformat_minor": 0
}
