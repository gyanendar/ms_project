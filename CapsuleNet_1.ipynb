{
  "nbformat": 4,
  "nbformat_minor": 0,
  "metadata": {
    "kernelspec": {
      "language": "python",
      "display_name": "Python 3",
      "name": "python3"
    },
    "language_info": {
      "codemirror_mode": {
        "version": 3,
        "name": "ipython"
      },
      "file_extension": ".py",
      "pygments_lexer": "ipython3",
      "mimetype": "text/x-python",
      "nbconvert_exporter": "python",
      "version": "3.6.3",
      "name": "python"
    },
    "colab": {
      "name": "Copy_of_CapsuleNet_on_MNIST.ipynb",
      "provenance": [],
      "collapsed_sections": [],
      "include_colab_link": true
    },
    "accelerator": "GPU"
  },
  "cells": [
    {
      "cell_type": "markdown",
      "metadata": {
        "id": "view-in-github",
        "colab_type": "text"
      },
      "source": [
        "<a href=\"https://colab.research.google.com/github/gyanendar/ms_project/blob/main/CapsuleNet_1.ipynb\" target=\"_parent\"><img src=\"https://colab.research.google.com/assets/colab-badge.svg\" alt=\"Open In Colab\"/></a>"
      ]
    },
    {
      "cell_type": "markdown",
      "metadata": {
        "_cell_guid": "7f4c4917-22fb-4b10-879e-51c600e6c3af",
        "_uuid": "9b086e5ec535ad75eada3ca72bf5e6534251074f",
        "id": "LQnu9movo8xz"
      },
      "source": [
        "# Overview\n",
        "\n",
        "The new model CapsuleNet proposed by Sara Sabour (and Geoffry Hinton) claims to deliver state of the art results on [MNIST](https://arxiv.org/abs/1710.09829). The kernel aims to create and train the model using the Kaggle Dataset and then make a submission to see where it actually ends up. Given the constraint of using a Kaggle Kernel means it can't be trained as long as we would like or with GPU's but IMHO if a model can't be reasonably well trained in an hour on a 28x28 dataset, that model probably won't be too useful in the immediate future.\n",
        "\n",
        "## Implementation Details\n",
        "\n",
        "* Keras implementation of CapsNet in Hinton's paper Dynamic Routing Between Capsules.\n",
        "* Code adapted from https://github.com/XifengGuo/CapsNet-Keras/blob/master/capsulenet.py\n",
        "*  Author: Xifeng Guo, E-mail: `guoxifeng1990@163.com`, Github: `https://github.com/XifengGuo/CapsNet-Keras`\n",
        "*     The current version maybe only works for TensorFlow backend. Actually it will be straightforward to re-write to TF code.\n",
        "*     Adopting to other backends should be easy, but I have not tested this. \n",
        "\n",
        "Result:\n",
        "    Validation accuracy > 99.5% after 20 epochs. Still under-fitting.\n",
        "    About 110 seconds per epoch on a single GTX1070 GPU card\n",
        "    \n"
      ]
    },
    {
      "cell_type": "code",
      "metadata": {
        "_cell_guid": "e30e2e10-a909-485d-be9d-dc6f592911a7",
        "_uuid": "c7e569699c6d067cd9fdf9c77299775e399b2ef3",
        "id": "qWnuqFe2o8x2",
        "outputId": "15cdb39b-58b1-4c3c-e5bf-13208eeae02b",
        "colab": {
          "base_uri": "https://localhost:8080/"
        }
      },
      "source": [
        "import os\n",
        "import random\n",
        "import cv2\n",
        "import numpy as np\n",
        "import pandas as pd\n",
        "#from keras.preprocessing.image import ImageDataGenerator\n",
        "#from keras import callbacks\n",
        "import tensorflow as tf\n",
        "from tensorflow.keras import callbacks\n",
        "from sklearn.model_selection import train_test_split\n",
        "#from keras.utils.vis_utils import plot_model\n",
        "from tensorflow.keras.preprocessing.image import ImageDataGenerator\n",
        "from sklearn import metrics\n",
        "from sklearn.metrics import precision_score\n",
        "from sklearn.metrics import recall_score\n",
        "from sklearn.metrics import f1_score\n",
        "from sklearn.metrics import accuracy_score\n",
        "import tensorflow.keras.backend as K\n",
        "from tensorflow.keras import initializers, layers\n",
        "from sklearn.metrics import confusion_matrix\n",
        "\n",
        "\n",
        "print(tf.__version__)"
      ],
      "execution_count": 1,
      "outputs": [
        {
          "output_type": "stream",
          "name": "stdout",
          "text": [
            "2.8.0\n"
          ]
        }
      ]
    },
    {
      "cell_type": "markdown",
      "metadata": {
        "_cell_guid": "9776fd57-44e0-4211-a7a5-c7e647a10704",
        "_uuid": "f4b5499a472b312d5c5f0274ad429567aced6841",
        "id": "xYHeLw1do8x5"
      },
      "source": [
        "# Capsule Layers \n",
        "Here is the implementation of the necessary layers for the CapsuleNet. These are not optimized yet and can be made significantly more performant. "
      ]
    },
    {
      "cell_type": "code",
      "metadata": {
        "_cell_guid": "167d39ca-ee32-4eec-a83b-86194252b14f",
        "_uuid": "90c180a9a8c20e3fb8a93c3eb42588927cfcd6b6",
        "id": "dQti96GTo8x5"
      },
      "source": [
        "\n",
        "\n",
        "class Length(layers.Layer):\n",
        "    \"\"\"\n",
        "    Compute the length of vectors. This is used to compute a Tensor that has the same shape with y_true in margin_loss.\n",
        "    Using this layer as model's output can directly predict labels by using `y_pred = np.argmax(model.predict(x), 1)`\n",
        "    inputs: shape=[None, num_vectors, dim_vector]\n",
        "    output: shape=[None, num_vectors]\n",
        "    \"\"\"\n",
        "    def call(self, inputs, **kwargs):\n",
        "        return tf.sqrt(tf.reduce_sum(tf.square(inputs), -1) + K.epsilon())\n",
        "\n",
        "    def compute_output_shape(self, input_shape):\n",
        "        return input_shape[:-1]\n",
        "\n",
        "    def get_config(self):\n",
        "        config = super(Length, self).get_config()\n",
        "        return config\n",
        "\n",
        "\n",
        "class Mask(layers.Layer):\n",
        "    \"\"\"\n",
        "    Mask a Tensor with shape=[None, num_capsule, dim_vector] either by the capsule with max length or by an additional \n",
        "    input mask. Except the max-length capsule (or specified capsule), all vectors are masked to zeros. Then flatten the\n",
        "    masked Tensor.\n",
        "    For example:\n",
        "        ```\n",
        "        x = keras.layers.Input(shape=[8, 3, 2])  # batch_size=8, each sample contains 3 capsules with dim_vector=2\n",
        "        y = keras.layers.Input(shape=[8, 3])  # True labels. 8 samples, 3 classes, one-hot coding.\n",
        "        out = Mask()(x)  # out.shape=[8, 6]\n",
        "        # or\n",
        "        out2 = Mask()([x, y])  # out2.shape=[8,6]. Masked with true labels y. Of course y can also be manipulated.\n",
        "        ```\n",
        "    \"\"\"\n",
        "    def call(self, inputs, **kwargs):\n",
        "        if type(inputs) is list:  # true label is provided with shape = [None, n_classes], i.e. one-hot code.\n",
        "            assert len(inputs) == 2\n",
        "            inputs, mask = inputs\n",
        "        else:  # if no true label, mask by the max length of capsules. Mainly used for prediction\n",
        "            # compute lengths of capsules\n",
        "            x = tf.sqrt(tf.reduce_sum(tf.square(inputs), -1))\n",
        "            # generate the mask which is a one-hot code.\n",
        "            # mask.shape=[None, n_classes]=[None, num_capsule]\n",
        "            mask = tf.one_hot(indices=tf.argmax(x, 1), depth=x.shape[1])\n",
        "\n",
        "        # inputs.shape=[None, num_capsule, dim_capsule]\n",
        "        # mask.shape=[None, num_capsule]\n",
        "        # masked.shape=[None, num_capsule * dim_capsule]\n",
        "        masked = K.batch_flatten(inputs * tf.expand_dims(mask, -1))\n",
        "        return masked\n",
        "\n",
        "    def compute_output_shape(self, input_shape):\n",
        "        if type(input_shape[0]) is tuple:  # true label provided\n",
        "            return tuple([None, input_shape[0][1] * input_shape[0][2]])\n",
        "        else:  # no true label provided\n",
        "            return tuple([None, input_shape[1] * input_shape[2]])\n",
        "\n",
        "    def get_config(self):\n",
        "        config = super(Mask, self).get_config()\n",
        "        return config\n",
        "\n",
        "\n",
        "def squash(vectors, axis=-1):\n",
        "    \"\"\"\n",
        "    The non-linear activation used in Capsule. It drives the length of a large vector to near 1 and small vector to 0\n",
        "    :param vectors: some vectors to be squashed, N-dim tensor\n",
        "    :param axis: the axis to squash\n",
        "    :return: a Tensor with same shape as input vectors\n",
        "    \"\"\"\n",
        "    s_squared_norm = tf.reduce_sum(tf.square(vectors), axis, keepdims=True)\n",
        "    scale = s_squared_norm / (1 + s_squared_norm) / tf.sqrt(s_squared_norm + K.epsilon())\n",
        "    return scale * vectors\n",
        "\n",
        "\n",
        "class CapsuleLayer(layers.Layer):\n",
        "    \"\"\"\n",
        "    The capsule layer. It is similar to Dense layer. Dense layer has `in_num` inputs, each is a scalar, the output of the\n",
        "    neuron from the former layer, and it has `out_num` output neurons. CapsuleLayer just expand the output of the neuron\n",
        "    from scalar to vector. So its input shape = [None, input_num_capsule, input_dim_capsule] and output shape = \\\n",
        "    [None, num_capsule, dim_capsule]. For Dense Layer, input_dim_capsule = dim_capsule = 1.\n",
        "    :param num_capsule: number of capsules in this layer\n",
        "    :param dim_capsule: dimension of the output vectors of the capsules in this layer\n",
        "    :param routings: number of iterations for the routing algorithm\n",
        "    \"\"\"\n",
        "    def __init__(self, num_capsule, dim_capsule, routings=3,\n",
        "                 kernel_initializer='glorot_uniform',\n",
        "                 **kwargs):\n",
        "        super(CapsuleLayer, self).__init__(**kwargs)\n",
        "        self.num_capsule = num_capsule\n",
        "        self.dim_capsule = dim_capsule\n",
        "        self.routings = routings\n",
        "        self.kernel_initializer = initializers.get(kernel_initializer)\n",
        "\n",
        "    def build(self, input_shape):\n",
        "        assert len(input_shape) >= 3, \"The input Tensor should have shape=[None, input_num_capsule, input_dim_capsule]\"\n",
        "        self.input_num_capsule = input_shape[1]\n",
        "        self.input_dim_capsule = input_shape[2]\n",
        "\n",
        "        # Transform matrix, from each input capsule to each output capsule, there's a unique weight as in Dense layer.\n",
        "        self.W = self.add_weight(shape=[self.num_capsule, self.input_num_capsule,\n",
        "                                        self.dim_capsule, self.input_dim_capsule],\n",
        "                                 initializer=self.kernel_initializer,\n",
        "                                 name='W')\n",
        "\n",
        "        self.built = True\n",
        "\n",
        "    def call(self, inputs, training=None):\n",
        "        # inputs.shape=[None, input_num_capsule, input_dim_capsule]\n",
        "        # inputs_expand.shape=[None, 1, input_num_capsule, input_dim_capsule, 1]\n",
        "        inputs_expand = tf.expand_dims(tf.expand_dims(inputs, 1), -1)\n",
        "\n",
        "        # Replicate num_capsule dimension to prepare being multiplied by W\n",
        "        # inputs_tiled.shape=[None, num_capsule, input_num_capsule, input_dim_capsule, 1]\n",
        "        inputs_tiled = tf.tile(inputs_expand, [1, self.num_capsule, 1, 1, 1])\n",
        "\n",
        "        # Compute `inputs * W` by scanning inputs_tiled on dimension 0.\n",
        "        # W.shape=[num_capsule, input_num_capsule, dim_capsule, input_dim_capsule]\n",
        "        # x.shape=[num_capsule, input_num_capsule, input_dim_capsule, 1]\n",
        "        # Regard the first two dimensions as `batch` dimension, then\n",
        "        # matmul(W, x): [..., dim_capsule, input_dim_capsule] x [..., input_dim_capsule, 1] -> [..., dim_capsule, 1].\n",
        "        # inputs_hat.shape = [None, num_capsule, input_num_capsule, dim_capsule]\n",
        "        inputs_hat = tf.squeeze(tf.map_fn(lambda x: tf.matmul(self.W, x), elems=inputs_tiled))\n",
        "\n",
        "        # Begin: Routing algorithm ---------------------------------------------------------------------#\n",
        "        # The prior for coupling coefficient, initialized as zeros.\n",
        "        # b.shape = [None, self.num_capsule, 1, self.input_num_capsule].\n",
        "        b = tf.zeros(shape=[inputs.shape[0], self.num_capsule, 1, self.input_num_capsule])\n",
        "\n",
        "        assert self.routings > 0, 'The routings should be > 0.'\n",
        "        for i in range(self.routings):\n",
        "            # c.shape=[batch_size, num_capsule, 1, input_num_capsule]\n",
        "            c = tf.nn.softmax(b, axis=1)\n",
        "\n",
        "            # c.shape = [batch_size, num_capsule, 1, input_num_capsule]\n",
        "            # inputs_hat.shape=[None, num_capsule, input_num_capsule, dim_capsule]\n",
        "            # The first two dimensions as `batch` dimension,\n",
        "            # then matmal: [..., 1, input_num_capsule] x [..., input_num_capsule, dim_capsule] -> [..., 1, dim_capsule].\n",
        "            # outputs.shape=[None, num_capsule, 1, dim_capsule]\n",
        "            outputs = squash(tf.matmul(c, inputs_hat))  # [None, 10, 1, 16]\n",
        "\n",
        "            if i < self.routings - 1:\n",
        "                # outputs.shape =  [None, num_capsule, 1, dim_capsule]\n",
        "                # inputs_hat.shape=[None, num_capsule, input_num_capsule, dim_capsule]\n",
        "                # The first two dimensions as `batch` dimension, then\n",
        "                # matmal:[..., 1, dim_capsule] x [..., input_num_capsule, dim_capsule]^T -> [..., 1, input_num_capsule].\n",
        "                # b.shape=[batch_size, num_capsule, 1, input_num_capsule]\n",
        "                b += tf.matmul(outputs, inputs_hat, transpose_b=True)\n",
        "        # End: Routing algorithm -----------------------------------------------------------------------#\n",
        "\n",
        "        return tf.squeeze(outputs)\n",
        "\n",
        "    def compute_output_shape(self, input_shape):\n",
        "        return tuple([None, self.num_capsule, self.dim_capsule])\n",
        "\n",
        "    def get_config(self):\n",
        "        config = {\n",
        "            'num_capsule': self.num_capsule,\n",
        "            'dim_capsule': self.dim_capsule,\n",
        "            'routings': self.routings\n",
        "        }\n",
        "        base_config = super(CapsuleLayer, self).get_config()\n",
        "        return dict(list(base_config.items()) + list(config.items()))\n",
        "\n",
        "\n",
        "def PrimaryCap(inputs, dim_capsule, n_channels, kernel_size, strides, padding):\n",
        "    \"\"\"\n",
        "    Apply Conv2D `n_channels` times and concatenate all capsules\n",
        "    :param inputs: 4D tensor, shape=[None, width, height, channels]\n",
        "    :param dim_capsule: the dim of the output vector of capsule\n",
        "    :param n_channels: the number of types of capsules\n",
        "    :return: output tensor, shape=[None, num_capsule, dim_capsule]\n",
        "    \"\"\"\n",
        "    output = layers.Conv2D(filters=dim_capsule*n_channels, kernel_size=kernel_size, strides=strides, padding=padding,\n",
        "                           name='primarycap_conv2d')(inputs)\n",
        "    outputs = layers.Reshape(target_shape=[-1, dim_capsule], name='primarycap_reshape')(output)\n",
        "    return layers.Lambda(squash, name='primarycap_squash')(outputs)\n",
        "\n"
      ],
      "execution_count": 2,
      "outputs": []
    },
    {
      "cell_type": "markdown",
      "metadata": {
        "_cell_guid": "7cd17730-22b6-4ac3-a612-31f18902fa78",
        "_uuid": "61c38c7ee701bb3ee2190263cf907fcdbe40dca2",
        "id": "UDdQcGoko8x8"
      },
      "source": [
        "# Build the Model\n",
        "Here we use the layers to build up the model. The model is a bit different from a standard $X\\rightarrow y$  model, it is $(X,y)\\rightarrow (y,X)$ meaning it attempts to predict the class from the image, and then at the same time, using the same capsule reconstruct the image from the class. The approach appears very cGAN-like where the task of reconstructing better helps the model 'understand' the image data better."
      ]
    },
    {
      "cell_type": "code",
      "metadata": {
        "_cell_guid": "bc101123-d53c-4c2e-a187-101c434885da",
        "_uuid": "2497453eb1895f624ad84617dd98c230f5640304",
        "id": "HCMIciV0o8x9"
      },
      "source": [
        "from tensorflow.keras import layers, models, optimizers\n",
        "from tensorflow.keras import backend as K\n",
        "from tensorflow.keras.utils import to_categorical\n",
        "\n",
        "K.set_image_data_format('channels_last')\n",
        "\n",
        "\"\"\"\n",
        "\n",
        "class CapsuleNet:\n",
        "  @staticmethod\n",
        "  def build(input_shape,number_of_class,routing_count,batch_size,\n",
        "            n_channels = 32,dim_capsule=16,\n",
        "            kernels=[9],filters=[256],strides=[1]):\n",
        "    \n",
        "   \n",
        "   A Capsule Network on MNIST.\n",
        "   :param input_shape: data shape, 3d, [width, height, channels]\n",
        "   :param n_class: number of classes\n",
        "   :param routings: number of routing iterations\n",
        "   :param batch_size: size of batch\n",
        "   :return: Two Keras Models, the first one used for training, and the second one for evaluation.\n",
        "           `eval_model` can also be used for training.\n",
        "   \n",
        "\n",
        "   input = layers.Input(shape=input_shape, batch_size=batch_size)  \n",
        "   for index in range(kernels):\n",
        "      if index == 0 :\n",
        "         conv = layers.Conv2D(filters=filters[index], \n",
        "                             kernel_size=kernels[index], \n",
        "                             strides=strides[index], \n",
        "                             padding='valid', \n",
        "                             activation='relu', \n",
        "                             name='conv'+str(index))(input)\n",
        "      else:\n",
        "         conv = layers.Conv2D(filters=filters[index], \n",
        "                             kernel_size=kernels[index], \n",
        "                             strides=strides[index], \n",
        "                             padding='valid', \n",
        "                             activation='relu', \n",
        "                             name='conv'+str(index))(conv)\n",
        "  \n",
        "    Apply Conv2D `n_channels` times and concatenate all capsules\n",
        "    :param inputs: 4D tensor, shape=[None, width, height, channels]\n",
        "    :param dim_capsule: the dim of the output vector of capsule\n",
        "    :param n_channels: the number of types of capsules\n",
        "    :return: output tensor, shape=[None, num_capsule, dim_capsule]\n",
        "  \n",
        "   conv_1 = layers.Conv2D(filters=dim_capsule*n_channels, \n",
        "                             kernel_size=kernels[-1], \n",
        "                             strides=strides[-1], \n",
        "                             padding='valid', \n",
        "                             activation='relu', \n",
        "                             name='primary_capsule_conv')(conv)\n",
        "    \n",
        "   conv_2 = layers.Reshape(target_shape=[-1, dim_capsule], name='primarycap_reshape')(conv_1)\n",
        "\n",
        "   primary_capsule = layers.lambda(squash,name = 'primary_capsule')(conv_2)\n",
        "\n",
        "    # Capsule layer. Routing algorithm works here.\n",
        "   digitcaps = CapsuleLayer(num_capsule=number_of_class, \n",
        "                             dim_capsule=dim_capsule, \n",
        "                             routings=routing_count, \n",
        "                             name='digitcaps')(primary_capsule)\n",
        "\n",
        "    # Auxiliary layer to replace each capsule with its length.\n",
        "    # Just to match the true label's shape.\n",
        "    \n",
        "   out_caps = Length(name='capsnet')(digitcaps)\n",
        "\n",
        "    # Decoder network.\n",
        "   y = layers.Input(shape=(number_of_class,))\n",
        "   masked_by_y = Mask()([digitcaps, y])  # The true label is used to mask the output of capsule layer. For training\n",
        "   masked = Mask()(digitcaps)  # Mask using the capsule with maximal length. For prediction\n",
        "\n",
        "    # Shared Decoder model in training and prediction\n",
        "   decoder = models.Sequential(name='decoder')\n",
        "   decoder.add(layers.Dense(512, activation='relu', input_dim=16 * number_of_class))\n",
        "   decoder.add(layers.Dense(1024, activation='relu'))\n",
        "   decoder.add(layers.Dense(np.prod(input_shape), activation='sigmoid'))\n",
        "   decoder.add(layers.Reshape(target_shape=input_shape, name='out_recon'))\n",
        "\n",
        "    # Models for training and evaluation (prediction)\n",
        "   train_model = models.Model([x, y], [out_caps, decoder(masked_by_y)])\n",
        "   eval_model = models.Model(x, [out_caps, decoder(masked)])\n",
        "  \n",
        "   return train_model, eval_model                            \n",
        "\"\"\"\n",
        "\n",
        "def CapsNet(input_shape, n_class, routings, batch_size):\n",
        "    \"\"\"\n",
        "    A Capsule Network on MNIST.\n",
        "    :param input_shape: data shape, 3d, [width, height, channels]\n",
        "    :param n_class: number of classes\n",
        "    :param routings: number of routing iterations\n",
        "    :param batch_size: size of batch\n",
        "    :return: Two Keras Models, the first one used for training, and the second one for evaluation.\n",
        "            `eval_model` can also be used for training.\n",
        "    \"\"\"\n",
        "    x = layers.Input(shape=input_shape, batch_size=batch_size)\n",
        "\n",
        "    # Layer 1: Just a conventional Conv2D layer\n",
        "    conv1 = layers.Conv2D(filters=256, kernel_size=9, strides=1, padding='valid', activation='relu', name='conv1')(x)\n",
        "\n",
        "    # Layer 2: Conv2D layer with `squash` activation, then reshape to [None, num_capsule, dim_capsule]\n",
        "    primarycaps = PrimaryCap(conv1, dim_capsule=8, n_channels=32, kernel_size=9, strides=2, padding='valid')\n",
        "\n",
        "    # Layer 3: Capsule layer. Routing algorithm works here.\n",
        "    digitcaps = CapsuleLayer(num_capsule=n_class, dim_capsule=16, routings=routings, name='digitcaps')(primarycaps)\n",
        "\n",
        "    # Layer 4: This is an auxiliary layer to replace each capsule with its length. Just to match the true label's shape.\n",
        "    # If using tensorflow, this will not be necessary. :)\n",
        "    out_caps = Length(name='capsnet')(digitcaps)\n",
        "\n",
        "    # Decoder network.\n",
        "    y = layers.Input(shape=(n_class,))\n",
        "    masked_by_y = Mask()([digitcaps, y])  # The true label is used to mask the output of capsule layer. For training\n",
        "    masked = Mask()(digitcaps)  # Mask using the capsule with maximal length. For prediction\n",
        "\n",
        "    # Shared Decoder model in training and prediction\n",
        "    decoder = models.Sequential(name='decoder')\n",
        "    decoder.add(layers.Dense(512, activation='relu', input_dim=16 * n_class))\n",
        "    decoder.add(layers.Dense(1024, activation='relu'))\n",
        "    decoder.add(layers.Dense(np.prod(input_shape), activation='sigmoid'))\n",
        "    decoder.add(layers.Reshape(target_shape=input_shape, name='out_recon'))\n",
        "\n",
        "    # Models for training and evaluation (prediction)\n",
        "    train_model = models.Model([x, y], [out_caps, decoder(masked_by_y)])\n",
        "    eval_model = models.Model(x, [out_caps, decoder(masked)])\n",
        "\n",
        "   \n",
        "    return train_model, eval_model"
      ],
      "execution_count": 3,
      "outputs": []
    },
    {
      "cell_type": "code",
      "metadata": {
        "_cell_guid": "c6d84e5a-c33c-40c8-89c3-aba3454f7025",
        "_uuid": "9f27c6b0623ebffb6c8a24579f9dd4e321d6b1c2",
        "id": "LS09Ic7qo8x_"
      },
      "source": [
        "def margin_loss(y_true, y_pred):\n",
        "    \"\"\"\n",
        "    Margin loss for Eq.(4). When y_true[i, :] contains not just one `1`, this loss should work too. Not test it.\n",
        "    :param y_true: [None, n_classes]\n",
        "    :param y_pred: [None, num_capsule]\n",
        "    :return: a scalar loss value.\n",
        "    \"\"\"\n",
        "    # return tf.reduce_mean(tf.square(y_pred))\n",
        "    L = y_true * tf.square(tf.maximum(0., 0.9 - y_pred)) + \\\n",
        "        0.5 * (1 - y_true) * tf.square(tf.maximum(0., y_pred - 0.1))\n",
        "\n",
        "    return tf.reduce_mean(tf.reduce_sum(L, 1))"
      ],
      "execution_count": 4,
      "outputs": []
    },
    {
      "cell_type": "markdown",
      "metadata": {
        "_cell_guid": "7d75c4e0-ffca-45fc-8acc-620fe2825f82",
        "_uuid": "3e810fabad89045b7f4b51fe8540164f90e7698c",
        "id": "LjrtUDsVo8yE"
      },
      "source": [
        "# Load MNIST Data\n",
        "Here we load and reformat the Kaggle contest data"
      ]
    },
    {
      "cell_type": "markdown",
      "metadata": {
        "id": "-JBMdPcyZrla"
      },
      "source": [
        ""
      ]
    },
    {
      "cell_type": "code",
      "metadata": {
        "_cell_guid": "169b7f78-12c7-4fed-886e-60024fe59339",
        "_uuid": "02b7db879a533e7bfb3116522bebf3867b23498c",
        "id": "0zSuXAxxo8yQ"
      },
      "source": [
        "from matplotlib import pyplot as plt\n",
        "from PIL import Image\n",
        "import csv\n",
        "import math\n",
        "import pandas\n",
        "\n",
        "def combine_images(generated_images, height=None, width=None):\n",
        "    num = generated_images.shape[0]\n",
        "    if width is None and height is None:\n",
        "        width = int(math.sqrt(num))\n",
        "        height = int(math.ceil(float(num)/width))\n",
        "    elif width is not None and height is None:  # height not given\n",
        "        height = int(math.ceil(float(num)/width))\n",
        "    elif height is not None and width is None:  # width not given\n",
        "        width = int(math.ceil(float(num)/height))\n",
        "\n",
        "    shape = generated_images.shape[1:3]\n",
        "    image = np.zeros((height*shape[0], width*shape[1]),\n",
        "                     dtype=generated_images.dtype)\n",
        "    for index, img in enumerate(generated_images):\n",
        "        i = int(index/width)\n",
        "        j = index % width\n",
        "        image[i*shape[0]:(i+1)*shape[0], j*shape[1]:(j+1)*shape[1]] = \\\n",
        "            img[:, :, 0]\n",
        "    return image\n",
        "\n",
        "def plot_log(filename, show=True):\n",
        "\n",
        "    data = pandas.read_csv(filename)\n",
        "\n",
        "    fig = plt.figure(figsize=(4,6))\n",
        "    fig.subplots_adjust(top=0.95, bottom=0.05, right=0.95)\n",
        "    fig.add_subplot(211)\n",
        "    for key in data.keys():\n",
        "        if key.find('loss') >= 0 and not key.find('val') >= 0:  # training loss\n",
        "            plt.plot(data['epoch'].values, data[key].values, label=key)\n",
        "    plt.legend()\n",
        "    plt.title('Training loss')\n",
        "\n",
        "    fig.add_subplot(212)\n",
        "    for key in data.keys():\n",
        "        if key.find('acc') >= 0:  # acc\n",
        "            plt.plot(data['epoch'].values, data[key].values, label=key)\n",
        "    plt.legend()\n",
        "    plt.title('Training and validation accuracy')\n",
        "\n",
        "    # fig.savefig('result/log.png')\n",
        "    if show:\n",
        "        plt.show()    \n",
        "\n",
        "def test(model, data, args):\n",
        "    x_test, y_test = data\n",
        "    y_pred, _ = model.predict(x_test)#, batch_size=args.batch_size)\n",
        "    print('-' * 30 + 'Begin: test' + '-' * 30)\n",
        "    print('Test acc:', np.sum(np.argmax(y_pred, 1) == np.argmax(y_test, 1)) / y_test.shape[0])\n",
        "\n",
        "    #img = combine_images(np.concatenate([x_test[:50], x_recon[:50]]))\n",
        "    #image = img * 255\n",
        "    #Image.fromarray(image.astype(np.uint8)).save(args.save_dir + \"/real_and_recon.png\")\n",
        "    #print()\n",
        "    #print('Reconstructed images are saved to %s/real_and_recon.png' % args.save_dir)\n",
        "    #print('-' * 30 + 'End: test' + '-' * 30)\n",
        "    #plt.imshow(plt.imread(args.save_dir + \"/real_and_recon.png\"))\n",
        "    #plt.show()"
      ],
      "execution_count": 5,
      "outputs": []
    },
    {
      "cell_type": "markdown",
      "source": [
        "**Plot**"
      ],
      "metadata": {
        "id": "kEL29LHiYu9X"
      }
    },
    {
      "cell_type": "code",
      "source": [
        "def plot_model_performance(history):\n",
        "  plt.style.use(\"ggplot\")\n",
        "  plt.figure(figsize=(7,6))\n",
        "                    \n",
        "  epoch_ran = len(history.history[\"loss\"])\n",
        "  plt.plot(np.arange(0, epoch_ran), \\\n",
        "           history.history[\"loss\"], label=\"train_loss\")\n",
        "  plt.plot(np.arange(0, epoch_ran), \\\n",
        "           history.history[\"val_loss\"], label=\"val_loss\")\n",
        "  plt.plot(np.arange(0, epoch_ran), \\\n",
        "           history.history[\"accuracy\"], label=\"train_acc\")\n",
        "  plt.plot(np.arange(0, epoch_ran), \\\n",
        "           history.history[\"val_accuracy\"], label=\"val_acc\")\n",
        "  plt.title(\"Training Loss and Accuracy\")\n",
        "  plt.xlabel(\"Epoch #\")\n",
        "  plt.ylabel(\"Loss/Accuracy\")\n",
        "  plt.legend()\n",
        "  plt.show()\n",
        "\n",
        "  #Print best score \n",
        "  print(\"\\nModel Performance Summary:\\n\")"
      ],
      "metadata": {
        "id": "Exz-8L7fV9HZ"
      },
      "execution_count": 6,
      "outputs": []
    },
    {
      "cell_type": "code",
      "metadata": {
        "_cell_guid": "e698ab37-4e74-43e6-b35b-a0507449d916",
        "_uuid": "c0374dabdf452026e3f231ffe689b5dd9f99288b",
        "id": "TZJyVmido8yK"
      },
      "source": [
        "def train(model, data, args):\n",
        "    \"\"\"\n",
        "    Training a CapsuleNet\n",
        "    :param model: the CapsuleNet model\n",
        "    :param data: a tuple containing training and testing data, like `((x_train, y_train), (x_test, y_test))`\n",
        "    :param args: arguments\n",
        "    :return: The trained model\n",
        "    \"\"\"\n",
        "    # unpacking the data\n",
        "    (x_train, y_train), (x_test, y_test) = data\n",
        "\n",
        "    # callbacks\n",
        "    log = callbacks.CSVLogger(args.save_dir + '/log.csv')\n",
        "    checkpoint = callbacks.ModelCheckpoint(args.save_dir + '/weights.h5', monitor='val_capsnet_accuracy',\n",
        "                                           save_best_only=True, save_weights_only=True, verbose=1)\n",
        "    lr_decay = callbacks.LearningRateScheduler(schedule=lambda epoch: args.lr * (args.lr_decay ** epoch))\n",
        "\n",
        "    # compile the model\n",
        "    model.compile(optimizer=optimizers.Adam(lr=args.lr),\n",
        "                  loss=[margin_loss, 'mse'],\n",
        "                  loss_weights=[1., args.lam_recon],run_eagerly=True,\n",
        "                  metrics={'capsnet': 'accuracy'})\n",
        "\n",
        "\n",
        "    # Begin: Training with data augmentation ---------------------------------------------------------------------#\n",
        "    def train_generator(x, y, batch_size, shift_fraction=0.):\n",
        "        train_datagen = ImageDataGenerator()  # shift up to 2 pixel for MNIST\n",
        "        generator = train_datagen.flow(x, y, batch_size=batch_size)\n",
        "        while 1:\n",
        "            x_batch, y_batch = generator.next()\n",
        "            yield (x_batch, y_batch), (y_batch, x_batch)\n",
        "\n",
        "    # Training with data augmentation. If shift_fraction=0., no augmentation.\n",
        "    history = model.fit(train_generator(x_train, y_train, args.batch_size, args.shift_fraction),\n",
        "              steps_per_epoch=int(y_train.shape[0] / args.batch_size),\n",
        "              epochs=args.epochs,\n",
        "              validation_data=((x_test, y_test), (y_test, x_test)), batch_size=args.batch_size,\n",
        "              callbacks=[log, checkpoint, lr_decay])\n",
        "\n",
        "    \n",
        "    index = history.history[\"val_capsnet_accuracy\"].index(max(history.history[\"val_capsnet_accuracy\"]))\n",
        "    best_val_accuracy = history.history[\"val_capsnet_accuracy\"][index]    \n",
        "    print(f\"Best Validation Accuracy:{best_val_accuracy}\") \n",
        "    \n",
        "    #plot_model_performance(history)\n",
        "\n",
        "    #model.save_weights(args.save_dir + '/trained_model.h5')\n",
        "    #print('Trained model saved to \\'%s/trained_model.h5\\'' % args.save_dir)\n",
        "\n",
        "    #plot_log(args.save_dir + '/log.csv', show=True)\n",
        "\n",
        "    return model\n"
      ],
      "execution_count": 31,
      "outputs": []
    },
    {
      "cell_type": "code",
      "source": [
        "def get_model_train_test(data,args):\n",
        "  set_seed()\n",
        "  (x_train,y_train),(x_test,y_test) = data\n",
        "  model, eval_model = CapsNet(input_shape=x_train.shape[1:],\n",
        "                                                  n_class=len(np.unique(np.argmax(y_train, 1))),\n",
        "                                                  routings=args.routings,\n",
        "                                                  batch_size=args.batch_size)\n",
        "  model.summary()\n",
        "  trained_model = train(model=model, data=((x_train, y_train), (x_test, y_test)), args=args)\n",
        "  trained_model.load_weights(f'./result/weights.h5')\n",
        "  y_pred,_= trained_model.predict((x_test,y_test), batch_size=x_test.shape[0])\n",
        "  print('-' * 30 + 'Begin: test' + '-' * 30)\n",
        "  print('Test acc:', np.sum(np.argmax(y_pred, 1) == np.argmax(y_test, 1)) / y_test.shape[0])  \n",
        " \n",
        "  result_pred = np.argmax(y_pred, axis=1) \n",
        "  result_actual = np.argmax(y_test, axis=1) \n",
        "  precision = precision_score(result_actual, result_pred)\n",
        "  recall = recall_score(result_actual, result_pred)\n",
        "  f1 = f1_score(result_actual, result_pred)\n",
        "  tn, fp, fn, tp = confusion_matrix(result_actual, result_pred).ravel()\n",
        "  fpr, tpr, thresholds = metrics.roc_curve(result_actual, result_pred)\n",
        "  auc = metrics.auc(fpr, tpr)\n",
        "  \n",
        "  print(f\"Precision:{precision}\")\n",
        "  print(f\"recall:{recall}\")\n",
        "  print(f\"f1:{f1}\")\n",
        "  print(f\"AUC:{auc}\")\n",
        "  print(f\"Sensitivity:{tp/(tp+fn)}\")\n",
        "  print(f\"specificity:{tn/(tn+fp)}\")\n"
      ],
      "metadata": {
        "id": "DaOxiCiiW5fQ"
      },
      "execution_count": 28,
      "outputs": []
    },
    {
      "cell_type": "code",
      "metadata": {
        "id": "_EKbfeEhiYkr",
        "outputId": "bf5b128f-766c-44f8-a716-bc6ecc0988e3",
        "colab": {
          "base_uri": "https://localhost:8080/"
        }
      },
      "source": [
        "import argparse\n",
        "import os\n",
        "\n",
        "parser = argparse.ArgumentParser(description=\"Capsule Network on MNIST.\")\n",
        "parser.add_argument('--epochs', default=15, type=int)\n",
        "parser.add_argument('--batch_size', default=32, type=int)\n",
        "parser.add_argument('--lr', default=0.0001, type=float,\n",
        "                        help=\"Initial learning rate\")\n",
        "parser.add_argument('--lr_decay', default=1, type=float,\n",
        "                        help=\"The value multiplied by lr at each epoch. Set a larger value for larger epochs\")\n",
        "parser.add_argument('--lam_recon', default=0.392, type=float,\n",
        "                        help=\"The coefficient for the loss of decoder\")\n",
        "parser.add_argument('-r', '--routings', default=1, type=int,\n",
        "                        help=\"Number of iterations used in routing algorithm. should > 0\")\n",
        "parser.add_argument('--shift_fraction', default=0.1, type=float,\n",
        "                        help=\"Fraction of pixels to shift at most in each direction.\")\n",
        "parser.add_argument('--debug', action='store_true',\n",
        "                        help=\"Save weights by TensorBoard\")\n",
        "parser.add_argument('--save_dir', default='./result')\n",
        "parser.add_argument('-t', '--testing', action='store_true',\n",
        "                        help=\"Test the trained model on testing dataset\")\n",
        "parser.add_argument('--digit', default=5, type=int,\n",
        "                        help=\"Digit to manipulate\")\n",
        "parser.add_argument('-w', '--weights', default=None,\n",
        "                        help=\"The path of the saved weights. Should be specified when testing\")\n",
        "args, unknown = parser.parse_known_args()\n",
        "print(args)\n",
        "\n",
        "if not os.path.exists(args.save_dir):\n",
        "    os.makedirs(args.save_dir)"
      ],
      "execution_count": 29,
      "outputs": [
        {
          "output_type": "stream",
          "name": "stdout",
          "text": [
            "Namespace(batch_size=32, debug=False, digit=5, epochs=15, lam_recon=0.392, lr=0.0001, lr_decay=1, routings=1, save_dir='./result', shift_fraction=0.1, testing=False, weights=None)\n"
          ]
        }
      ]
    },
    {
      "cell_type": "code",
      "metadata": {
        "_cell_guid": "9dbcd67c-8f99-4d8b-8cf7-480d8dc069a4",
        "_uuid": "526436cc40013621251285812ba95725d4a6d749",
        "id": "7UfmktlEo8yF"
      },
      "source": [
        "def load_mnist():\n",
        "    \n",
        "    (x_train, y_train), (x_test, y_test) = tf.keras.datasets.fashion_mnist.load_data()\n",
        "\n",
        "    x_train = x_train.reshape(-1, 28, 28, 1).astype('float32') / 255.\n",
        "    x_test = x_test.reshape(-1, 28, 28, 1).astype('float32') / 255.\n",
        "    y_train = to_categorical(y_train.astype('float32'))\n",
        "    y_test = to_categorical(y_test.astype('float32'))\n",
        "\n",
        "\n",
        "    return (x_train, y_train), (x_test, y_test)"
      ],
      "execution_count": 10,
      "outputs": []
    },
    {
      "cell_type": "markdown",
      "source": [
        "**Load RIM-ONE Dataset**"
      ],
      "metadata": {
        "id": "pyoKrohAY3Oj"
      }
    },
    {
      "cell_type": "code",
      "source": [
        "from google.colab import drive\n",
        "drive.mount('/content/gdrive')"
      ],
      "metadata": {
        "colab": {
          "base_uri": "https://localhost:8080/"
        },
        "id": "LVhC0mWybBFf",
        "outputId": "1aa7a171-6897-4378-930a-0affa7625018"
      },
      "execution_count": 11,
      "outputs": [
        {
          "output_type": "stream",
          "name": "stdout",
          "text": [
            "Mounted at /content/gdrive\n"
          ]
        }
      ]
    },
    {
      "cell_type": "code",
      "source": [
        "RIM_ONE_DL_DIR = '/content/gdrive/My Drive/MSC_Project/Dataset/RIM-ONE_DL_images/partitioned_randomly'\n",
        "RIM_ONE_R2_DIR = '/content/gdrive/My Drive/MSC_Project/Dataset/RIMONE-db-r2'\n",
        "ACRIMA_DIR = '/content/gdrive/My Drive/MSC_Project/Dataset/ACRIMA'"
      ],
      "metadata": {
        "id": "99C4kIlhbJdD"
      },
      "execution_count": 12,
      "outputs": []
    },
    {
      "cell_type": "code",
      "source": [
        "HEIGHT= 64\n",
        "WIDTH = 64\n",
        "BATCH_SIZE = 32\n",
        "CLASS_COUNT = 2\n",
        "NUM_EPOCHS_A = 25\n",
        "NUM_EPOCHS_B = 40"
      ],
      "metadata": {
        "id": "kv4_0aYMbNC_"
      },
      "execution_count": 13,
      "outputs": []
    },
    {
      "cell_type": "code",
      "source": [
        "# Resize image to 256*256\n",
        "# Convert to numpy array\n",
        "def process_image(data_set_dir, label_dict, width,height):\n",
        "    \n",
        "    x = [] # will store images as arrays\n",
        "    y = [] # store labels\n",
        "    # list folders in directory\n",
        "    directories = os.listdir(data_set_dir)\n",
        "     \n",
        "    # for each folder (train and validation) \n",
        "    for label in directories:\n",
        "        \n",
        "        # add class label to label dictionary\n",
        "        if label not in label_dict:\n",
        "            label_dict[label] = len(label_dict)\n",
        "        \n",
        "        # create full path for image directory \n",
        "        source_images = os.path.join(data_set_dir, label)\n",
        "        images = os.listdir(source_images)\n",
        "        # for each image in directory, \n",
        "        for image in images:\n",
        "            #folder have .txt files which needs to be ignored\n",
        "            if '.txt'not in image:\n",
        "                # read the image from file, resize and add to a list\n",
        "                full_size_image = cv2.imread(os.path.join(source_images, image))\n",
        "                #gray_image = cv2.cvtColor(full_size_image, cv2.COLOR_BGR2GRAY)\n",
        "                \n",
        "                #append the image to x\n",
        "                x.append(cv2.resize(full_size_image, (width,height), \n",
        "                                                            interpolation=cv2.INTER_CUBIC))\n",
        "                # add the class label to y\n",
        "                y.append(label)\n",
        "\n",
        "    data = np.array(x, dtype=\"float\") / 255.0                \n",
        "    label = np.array(y)\n",
        "    \n",
        "    return data,label"
      ],
      "metadata": {
        "id": "RwbtEuh3bQXF"
      },
      "execution_count": 21,
      "outputs": []
    },
    {
      "cell_type": "code",
      "source": [
        "def get_rim_one_dl():\n",
        "  class_labels = {}\n",
        "  training_images,training_labels = process_image(RIM_ONE_DL_DIR+\"/training_set\",class_labels,WIDTH,HEIGHT)\n",
        "  training_label = (pd.Series(training_labels).map(class_labels)).values\n",
        "  training_label = to_categorical(training_label.astype('float32'))\n",
        "  training_images = training_images.reshape(-1, WIDTH, WIDTH, 3).astype('float32')\n",
        "\n",
        "  test_images,test_labels = process_image(RIM_ONE_DL_DIR+\"/test_set\",class_labels,WIDTH,HEIGHT)\n",
        "  test_label = (pd.Series(test_labels).map(class_labels)).values\n",
        "  test_label = to_categorical(test_label.astype('float32'))\n",
        "  test_images = test_images.reshape(-1, WIDTH, WIDTH, 3).astype('float32')\n",
        "\n",
        "  return (training_images,training_label),(test_images,test_label)"
      ],
      "metadata": {
        "id": "WYYvphuBabld"
      },
      "execution_count": 20,
      "outputs": []
    },
    {
      "cell_type": "code",
      "source": [
        "def get_rim_one_db_r2():\n",
        "  class_labels = {}\n",
        "  training_images,training_labels = process_image(RIM_ONE_R2_DIR,class_labels,WIDTH,HEIGHT)\n",
        "  training_label = (pd.Series(training_labels).map(class_labels)).values\n",
        "  training_label = to_categorical(training_label.astype('float32'))\n",
        "  training_images = training_images.reshape(-1, WIDTH, WIDTH, 3).astype('float32')\n",
        "\n",
        "  X_train, X_test, y_train, y_test = train_test_split(training_images, training_label, test_size=0.2, random_state=100)\n",
        "\n",
        "  return (X_train,y_train),(X_test,y_test)"
      ],
      "metadata": {
        "id": "aI44L23fgLGf"
      },
      "execution_count": 19,
      "outputs": []
    },
    {
      "cell_type": "code",
      "source": [
        "def get_acrima_dataset(test_train_ratio = 0.2):\n",
        "  class_labels = {}\n",
        "  training_images,training_labels = process_image(ACRIMA_DIR,class_labels,WIDTH,HEIGHT)\n",
        "  training_label = (pd.Series(training_labels).map(class_labels)).values\n",
        "  training_label = to_categorical(training_label.astype('float32'))\n",
        "  training_images = training_images.reshape(-1, WIDTH, WIDTH, 3).astype('float32')\n",
        "\n",
        "  X_train, X_test, y_train, y_test = train_test_split(training_images, training_label, test_size=test_train_ratio, random_state=100)\n",
        "\n",
        "  return (X_train,y_train),(X_test,y_test)"
      ],
      "metadata": {
        "id": "iU4ArbgNZBKZ"
      },
      "execution_count": 18,
      "outputs": []
    },
    {
      "cell_type": "code",
      "source": [
        "def set_seed(seed = 100):\n",
        "  tf.random.set_seed(seed)\n",
        "  np.random.seed(seed)\n",
        "  random.seed(seed)"
      ],
      "metadata": {
        "id": "oeRFsDfUlXC0"
      },
      "execution_count": 17,
      "outputs": []
    },
    {
      "cell_type": "code",
      "source": [
        ""
      ],
      "metadata": {
        "id": "3yrXFySoqCM7"
      },
      "execution_count": null,
      "outputs": []
    },
    {
      "cell_type": "code",
      "source": [
        "data = get_rim_one_db_r2()\n",
        "get_model_train_test(data,args)"
      ],
      "metadata": {
        "colab": {
          "base_uri": "https://localhost:8080/"
        },
        "id": "GECoDk0NqCFG",
        "outputId": "86ddbb5e-1b04-421a-f8b9-12d7a0891f26"
      },
      "execution_count": 32,
      "outputs": [
        {
          "output_type": "stream",
          "name": "stdout",
          "text": [
            "Model: \"model_4\"\n",
            "__________________________________________________________________________________________________\n",
            " Layer (type)                   Output Shape         Param #     Connected to                     \n",
            "==================================================================================================\n",
            " input_5 (InputLayer)           [(32, 64, 64, 3)]    0           []                               \n",
            "                                                                                                  \n",
            " conv1 (Conv2D)                 (32, 56, 56, 256)    62464       ['input_5[0][0]']                \n",
            "                                                                                                  \n",
            " primarycap_conv2d (Conv2D)     (32, 24, 24, 256)    5308672     ['conv1[0][0]']                  \n",
            "                                                                                                  \n",
            " primarycap_reshape (Reshape)   (32, 18432, 8)       0           ['primarycap_conv2d[0][0]']      \n",
            "                                                                                                  \n",
            " primarycap_squash (Lambda)     (32, 18432, 8)       0           ['primarycap_reshape[0][0]']     \n",
            "                                                                                                  \n",
            " digitcaps (CapsuleLayer)       (32, 2, 16)          4718592     ['primarycap_squash[0][0]']      \n",
            "                                                                                                  \n",
            " input_6 (InputLayer)           [(None, 2)]          0           []                               \n",
            "                                                                                                  \n",
            " mask_4 (Mask)                  (32, 32)             0           ['digitcaps[0][0]',              \n",
            "                                                                  'input_6[0][0]']                \n",
            "                                                                                                  \n",
            " capsnet (Length)               (32, 2)              0           ['digitcaps[0][0]']              \n",
            "                                                                                                  \n",
            " decoder (Sequential)           (None, 64, 64, 3)    13137408    ['mask_4[0][0]']                 \n",
            "                                                                                                  \n",
            "==================================================================================================\n",
            "Total params: 23,227,136\n",
            "Trainable params: 23,227,136\n",
            "Non-trainable params: 0\n",
            "__________________________________________________________________________________________________\n",
            "Epoch 1/15\n"
          ]
        },
        {
          "output_type": "stream",
          "name": "stderr",
          "text": [
            "/usr/local/lib/python3.7/dist-packages/keras/optimizer_v2/adam.py:105: UserWarning: The `lr` argument is deprecated, use `learning_rate` instead.\n",
            "  super(Adam, self).__init__(name, **kwargs)\n"
          ]
        },
        {
          "output_type": "stream",
          "name": "stdout",
          "text": [
            "11/11 [==============================] - ETA: 0s - loss: 0.4695 - capsnet_loss: 0.4425 - decoder_loss: 0.0688 - capsnet_accuracy: 0.5057\n",
            "Epoch 1: val_capsnet_accuracy improved from -inf to 0.45652, saving model to ./result/weights.h5\n",
            "11/11 [==============================] - 8s 681ms/step - loss: 0.4695 - capsnet_loss: 0.4425 - decoder_loss: 0.0688 - capsnet_accuracy: 0.5057 - val_loss: 0.4215 - val_capsnet_loss: 0.3957 - val_decoder_loss: 0.0659 - val_capsnet_accuracy: 0.4565 - lr: 1.0000e-04\n",
            "Epoch 2/15\n",
            "11/11 [==============================] - ETA: 0s - loss: 0.4132 - capsnet_loss: 0.3865 - decoder_loss: 0.0680 - capsnet_accuracy: 0.4048\n",
            "Epoch 2: val_capsnet_accuracy did not improve from 0.45652\n",
            "11/11 [==============================] - 7s 663ms/step - loss: 0.4132 - capsnet_loss: 0.3865 - decoder_loss: 0.0680 - capsnet_accuracy: 0.4048 - val_loss: 0.4004 - val_capsnet_loss: 0.3747 - val_decoder_loss: 0.0656 - val_capsnet_accuracy: 0.4565 - lr: 1.0000e-04\n",
            "Epoch 3/15\n",
            "11/11 [==============================] - ETA: 0s - loss: 0.3227 - capsnet_loss: 0.2959 - decoder_loss: 0.0682 - capsnet_accuracy: 0.5714\n",
            "Epoch 3: val_capsnet_accuracy improved from 0.45652 to 0.54348, saving model to ./result/weights.h5\n",
            "11/11 [==============================] - 7s 653ms/step - loss: 0.3227 - capsnet_loss: 0.2959 - decoder_loss: 0.0682 - capsnet_accuracy: 0.5714 - val_loss: 0.3026 - val_capsnet_loss: 0.2770 - val_decoder_loss: 0.0654 - val_capsnet_accuracy: 0.5435 - lr: 1.0000e-04\n",
            "Epoch 4/15\n",
            "11/11 [==============================] - ETA: 0s - loss: 0.2713 - capsnet_loss: 0.2445 - decoder_loss: 0.0683 - capsnet_accuracy: 0.5179\n",
            "Epoch 4: val_capsnet_accuracy did not improve from 0.54348\n",
            "11/11 [==============================] - 7s 629ms/step - loss: 0.2713 - capsnet_loss: 0.2445 - decoder_loss: 0.0683 - capsnet_accuracy: 0.5179 - val_loss: 0.2676 - val_capsnet_loss: 0.2421 - val_decoder_loss: 0.0650 - val_capsnet_accuracy: 0.5435 - lr: 1.0000e-04\n",
            "Epoch 5/15\n",
            "11/11 [==============================] - ETA: 0s - loss: 0.2584 - capsnet_loss: 0.2321 - decoder_loss: 0.0670 - capsnet_accuracy: 0.4911\n",
            "Epoch 5: val_capsnet_accuracy did not improve from 0.54348\n",
            "11/11 [==============================] - 7s 630ms/step - loss: 0.2584 - capsnet_loss: 0.2321 - decoder_loss: 0.0670 - capsnet_accuracy: 0.4911 - val_loss: 0.2494 - val_capsnet_loss: 0.2242 - val_decoder_loss: 0.0641 - val_capsnet_accuracy: 0.5435 - lr: 1.0000e-04\n",
            "Epoch 6/15\n",
            "11/11 [==============================] - ETA: 0s - loss: 0.2561 - capsnet_loss: 0.2301 - decoder_loss: 0.0664 - capsnet_accuracy: 0.5060\n",
            "Epoch 6: val_capsnet_accuracy did not improve from 0.54348\n",
            "11/11 [==============================] - 7s 646ms/step - loss: 0.2561 - capsnet_loss: 0.2301 - decoder_loss: 0.0664 - capsnet_accuracy: 0.5060 - val_loss: 0.2443 - val_capsnet_loss: 0.2198 - val_decoder_loss: 0.0627 - val_capsnet_accuracy: 0.4783 - lr: 1.0000e-04\n",
            "Epoch 7/15\n",
            "11/11 [==============================] - ETA: 0s - loss: 0.2300 - capsnet_loss: 0.2051 - decoder_loss: 0.0636 - capsnet_accuracy: 0.6280\n",
            "Epoch 7: val_capsnet_accuracy improved from 0.54348 to 0.59783, saving model to ./result/weights.h5\n",
            "11/11 [==============================] - 7s 666ms/step - loss: 0.2300 - capsnet_loss: 0.2051 - decoder_loss: 0.0636 - capsnet_accuracy: 0.6280 - val_loss: 0.2262 - val_capsnet_loss: 0.2027 - val_decoder_loss: 0.0600 - val_capsnet_accuracy: 0.5978 - lr: 1.0000e-04\n",
            "Epoch 8/15\n",
            "11/11 [==============================] - ETA: 0s - loss: 0.2214 - capsnet_loss: 0.1976 - decoder_loss: 0.0608 - capsnet_accuracy: 0.6607\n",
            "Epoch 8: val_capsnet_accuracy improved from 0.59783 to 0.71739, saving model to ./result/weights.h5\n",
            "11/11 [==============================] - 7s 650ms/step - loss: 0.2214 - capsnet_loss: 0.1976 - decoder_loss: 0.0608 - capsnet_accuracy: 0.6607 - val_loss: 0.2117 - val_capsnet_loss: 0.1902 - val_decoder_loss: 0.0548 - val_capsnet_accuracy: 0.7174 - lr: 1.0000e-04\n",
            "Epoch 9/15\n",
            "11/11 [==============================] - ETA: 0s - loss: 0.1911 - capsnet_loss: 0.1703 - decoder_loss: 0.0533 - capsnet_accuracy: 0.7917\n",
            "Epoch 9: val_capsnet_accuracy improved from 0.71739 to 0.73913, saving model to ./result/weights.h5\n",
            "11/11 [==============================] - 7s 657ms/step - loss: 0.1911 - capsnet_loss: 0.1703 - decoder_loss: 0.0533 - capsnet_accuracy: 0.7917 - val_loss: 0.2088 - val_capsnet_loss: 0.1904 - val_decoder_loss: 0.0470 - val_capsnet_accuracy: 0.7391 - lr: 1.0000e-04\n",
            "Epoch 10/15\n",
            "11/11 [==============================] - ETA: 0s - loss: 0.1915 - capsnet_loss: 0.1747 - decoder_loss: 0.0429 - capsnet_accuracy: 0.7054\n",
            "Epoch 10: val_capsnet_accuracy improved from 0.73913 to 0.75000, saving model to ./result/weights.h5\n",
            "11/11 [==============================] - 7s 665ms/step - loss: 0.1915 - capsnet_loss: 0.1747 - decoder_loss: 0.0429 - capsnet_accuracy: 0.7054 - val_loss: 0.1953 - val_capsnet_loss: 0.1818 - val_decoder_loss: 0.0344 - val_capsnet_accuracy: 0.7500 - lr: 1.0000e-04\n",
            "Epoch 11/15\n",
            "11/11 [==============================] - ETA: 0s - loss: 0.1701 - capsnet_loss: 0.1589 - decoder_loss: 0.0286 - capsnet_accuracy: 0.7411\n",
            "Epoch 11: val_capsnet_accuracy improved from 0.75000 to 0.77174, saving model to ./result/weights.h5\n",
            "11/11 [==============================] - 7s 647ms/step - loss: 0.1701 - capsnet_loss: 0.1589 - decoder_loss: 0.0286 - capsnet_accuracy: 0.7411 - val_loss: 0.1766 - val_capsnet_loss: 0.1687 - val_decoder_loss: 0.0202 - val_capsnet_accuracy: 0.7717 - lr: 1.0000e-04\n",
            "Epoch 12/15\n",
            "11/11 [==============================] - ETA: 0s - loss: 0.1514 - capsnet_loss: 0.1451 - decoder_loss: 0.0162 - capsnet_accuracy: 0.7946\n",
            "Epoch 12: val_capsnet_accuracy did not improve from 0.77174\n",
            "11/11 [==============================] - 7s 648ms/step - loss: 0.1514 - capsnet_loss: 0.1451 - decoder_loss: 0.0162 - capsnet_accuracy: 0.7946 - val_loss: 0.1671 - val_capsnet_loss: 0.1625 - val_decoder_loss: 0.0119 - val_capsnet_accuracy: 0.6957 - lr: 1.0000e-04\n",
            "Epoch 13/15\n",
            "11/11 [==============================] - ETA: 0s - loss: 0.1386 - capsnet_loss: 0.1341 - decoder_loss: 0.0115 - capsnet_accuracy: 0.8153\n",
            "Epoch 13: val_capsnet_accuracy improved from 0.77174 to 0.78261, saving model to ./result/weights.h5\n",
            "11/11 [==============================] - 7s 675ms/step - loss: 0.1386 - capsnet_loss: 0.1341 - decoder_loss: 0.0115 - capsnet_accuracy: 0.8153 - val_loss: 0.1593 - val_capsnet_loss: 0.1555 - val_decoder_loss: 0.0096 - val_capsnet_accuracy: 0.7826 - lr: 1.0000e-04\n",
            "Epoch 14/15\n",
            "11/11 [==============================] - ETA: 0s - loss: 0.1236 - capsnet_loss: 0.1195 - decoder_loss: 0.0103 - capsnet_accuracy: 0.8185\n",
            "Epoch 14: val_capsnet_accuracy did not improve from 0.78261\n",
            "11/11 [==============================] - 7s 669ms/step - loss: 0.1236 - capsnet_loss: 0.1195 - decoder_loss: 0.0103 - capsnet_accuracy: 0.8185 - val_loss: 0.1518 - val_capsnet_loss: 0.1480 - val_decoder_loss: 0.0096 - val_capsnet_accuracy: 0.7826 - lr: 1.0000e-04\n",
            "Epoch 15/15\n",
            "11/11 [==============================] - ETA: 0s - loss: 0.1196 - capsnet_loss: 0.1158 - decoder_loss: 0.0095 - capsnet_accuracy: 0.8333\n",
            "Epoch 15: val_capsnet_accuracy improved from 0.78261 to 0.79348, saving model to ./result/weights.h5\n",
            "11/11 [==============================] - 7s 647ms/step - loss: 0.1196 - capsnet_loss: 0.1158 - decoder_loss: 0.0095 - capsnet_accuracy: 0.8333 - val_loss: 0.1654 - val_capsnet_loss: 0.1615 - val_decoder_loss: 0.0100 - val_capsnet_accuracy: 0.7935 - lr: 1.0000e-04\n",
            "Best Validation Accuracy:0.79347825050354\n",
            "------------------------------Begin: test------------------------------\n",
            "Test acc: 0.7934782608695652\n",
            "Precision:0.8297872340425532\n",
            "recall:0.78\n",
            "f1:0.8041237113402062\n",
            "AUC:0.7947619047619048\n",
            "Sensitivity:0.78\n",
            "specificity:0.8095238095238095\n"
          ]
        }
      ]
    },
    {
      "cell_type": "code",
      "source": [
        ""
      ],
      "metadata": {
        "id": "z6_kkr0YqB-Y"
      },
      "execution_count": null,
      "outputs": []
    },
    {
      "cell_type": "code",
      "metadata": {
        "id": "l-i3c_UESE2P",
        "outputId": "b2c555ac-1fc2-42e8-f75d-edd075e3a9b7",
        "colab": {
          "base_uri": "https://localhost:8080/"
        }
      },
      "source": [
        "set_seed()\n",
        "\n",
        "(x_train, y_train), (x_test, y_test) = get_rim_one_db_r2()\n",
        "\n",
        "    # define model\n",
        "model, eval_model = CapsNet(input_shape=x_train.shape[1:],\n",
        "                                                  n_class=2,\n",
        "                                                  routings=args.routings,\n",
        "                                                  batch_size=args.batch_size)\n",
        "model.summary()"
      ],
      "execution_count": 16,
      "outputs": [
        {
          "output_type": "stream",
          "name": "stdout",
          "text": [
            "Model: \"model\"\n",
            "__________________________________________________________________________________________________\n",
            " Layer (type)                   Output Shape         Param #     Connected to                     \n",
            "==================================================================================================\n",
            " input_1 (InputLayer)           [(32, 64, 64, 3)]    0           []                               \n",
            "                                                                                                  \n",
            " conv1 (Conv2D)                 (32, 56, 56, 256)    62464       ['input_1[0][0]']                \n",
            "                                                                                                  \n",
            " primarycap_conv2d (Conv2D)     (32, 24, 24, 256)    5308672     ['conv1[0][0]']                  \n",
            "                                                                                                  \n",
            " primarycap_reshape (Reshape)   (32, 18432, 8)       0           ['primarycap_conv2d[0][0]']      \n",
            "                                                                                                  \n",
            " primarycap_squash (Lambda)     (32, 18432, 8)       0           ['primarycap_reshape[0][0]']     \n",
            "                                                                                                  \n",
            " digitcaps (CapsuleLayer)       (32, 2, 16)          4718592     ['primarycap_squash[0][0]']      \n",
            "                                                                                                  \n",
            " input_2 (InputLayer)           [(None, 2)]          0           []                               \n",
            "                                                                                                  \n",
            " mask (Mask)                    (32, 32)             0           ['digitcaps[0][0]',              \n",
            "                                                                  'input_2[0][0]']                \n",
            "                                                                                                  \n",
            " capsnet (Length)               (32, 2)              0           ['digitcaps[0][0]']              \n",
            "                                                                                                  \n",
            " decoder (Sequential)           (None, 64, 64, 3)    13137408    ['mask[0][0]']                   \n",
            "                                                                                                  \n",
            "==================================================================================================\n",
            "Total params: 23,227,136\n",
            "Trainable params: 23,227,136\n",
            "Non-trainable params: 0\n",
            "__________________________________________________________________________________________________\n"
          ]
        }
      ]
    },
    {
      "cell_type": "code",
      "source": [
        "import gc\n",
        "gc.collect()"
      ],
      "metadata": {
        "colab": {
          "base_uri": "https://localhost:8080/"
        },
        "id": "cJxjBAqnX-IQ",
        "outputId": "cd12382a-4019-4718-bf34-2c08a243c461"
      },
      "execution_count": 68,
      "outputs": [
        {
          "output_type": "execute_result",
          "data": {
            "text/plain": [
              "3"
            ]
          },
          "metadata": {},
          "execution_count": 68
        }
      ]
    },
    {
      "cell_type": "code",
      "metadata": {
        "_cell_guid": "2fda2834-7c9e-4ed6-b322-0b9e86415201",
        "_uuid": "07bbb33aaa1c7ec875798359e300bbcdba374659",
        "id": "8NCOZGHlo8yM",
        "outputId": "c777ca26-ec43-4c6c-b7cb-c754e2a262c0",
        "colab": {
          "base_uri": "https://localhost:8080/",
          "height": 1000
        }
      },
      "source": [
        "#train(model=model, data=((x_train, y_train), (x_test[:60], y_test[:60])), \n",
        " #     epoch_size_frac = 0.5) # do 10% of an epoch (takes too long)\n",
        "trained_model = train(model=model, data=((x_train, y_train), (x_test, y_test)), args=args)"
      ],
      "execution_count": 17,
      "outputs": [
        {
          "output_type": "stream",
          "name": "stdout",
          "text": [
            "Epoch 1/20\n"
          ]
        },
        {
          "output_type": "stream",
          "name": "stderr",
          "text": [
            "/usr/local/lib/python3.7/dist-packages/keras/optimizer_v2/adam.py:105: UserWarning: The `lr` argument is deprecated, use `learning_rate` instead.\n",
            "  super(Adam, self).__init__(name, **kwargs)\n"
          ]
        },
        {
          "output_type": "stream",
          "name": "stdout",
          "text": [
            "11/11 [==============================] - ETA: 0s - loss: 0.4703 - capsnet_loss: 0.4434 - decoder_loss: 0.0687 - capsnet_accuracy: 0.5057 \n",
            "Epoch 1: val_capsnet_accuracy improved from -inf to 0.45652, saving model to ./result/weights-01.h5\n",
            "11/11 [==============================] - 174s 16s/step - loss: 0.4703 - capsnet_loss: 0.4434 - decoder_loss: 0.0687 - capsnet_accuracy: 0.5057 - val_loss: 0.4225 - val_capsnet_loss: 0.3966 - val_decoder_loss: 0.0659 - val_capsnet_accuracy: 0.4565 - lr: 1.0000e-04\n",
            "Epoch 2/20\n",
            "11/11 [==============================] - ETA: 0s - loss: 0.4027 - capsnet_loss: 0.3762 - decoder_loss: 0.0676 - capsnet_accuracy: 0.4167 \n",
            "Epoch 2: val_capsnet_accuracy did not improve from 0.45652\n",
            "11/11 [==============================] - 190s 18s/step - loss: 0.4027 - capsnet_loss: 0.3762 - decoder_loss: 0.0676 - capsnet_accuracy: 0.4167 - val_loss: 0.4050 - val_capsnet_loss: 0.3793 - val_decoder_loss: 0.0656 - val_capsnet_accuracy: 0.3804 - lr: 1.0000e-04\n",
            "Epoch 3/20\n",
            "11/11 [==============================] - ETA: 0s - loss: 0.3520 - capsnet_loss: 0.3251 - decoder_loss: 0.0686 - capsnet_accuracy: 0.5625 \n",
            "Epoch 3: val_capsnet_accuracy improved from 0.45652 to 0.54348, saving model to ./result/weights-03.h5\n",
            "11/11 [==============================] - 174s 16s/step - loss: 0.3520 - capsnet_loss: 0.3251 - decoder_loss: 0.0686 - capsnet_accuracy: 0.5625 - val_loss: 0.3266 - val_capsnet_loss: 0.3009 - val_decoder_loss: 0.0654 - val_capsnet_accuracy: 0.5435 - lr: 1.0000e-04\n",
            "Epoch 4/20\n",
            "11/11 [==============================] - ETA: 0s - loss: 0.2990 - capsnet_loss: 0.2727 - decoder_loss: 0.0670 - capsnet_accuracy: 0.5179 \n",
            "Epoch 4: val_capsnet_accuracy did not improve from 0.54348\n",
            "11/11 [==============================] - 183s 17s/step - loss: 0.2990 - capsnet_loss: 0.2727 - decoder_loss: 0.0670 - capsnet_accuracy: 0.5179 - val_loss: 0.2690 - val_capsnet_loss: 0.2436 - val_decoder_loss: 0.0648 - val_capsnet_accuracy: 0.4565 - lr: 1.0000e-04\n",
            "Epoch 5/20\n",
            "11/11 [==============================] - ETA: 0s - loss: 0.2757 - capsnet_loss: 0.2490 - decoder_loss: 0.0681 - capsnet_accuracy: 0.4643 \n",
            "Epoch 5: val_capsnet_accuracy did not improve from 0.54348\n",
            "11/11 [==============================] - 166s 15s/step - loss: 0.2757 - capsnet_loss: 0.2490 - decoder_loss: 0.0681 - capsnet_accuracy: 0.4643 - val_loss: 0.2595 - val_capsnet_loss: 0.2345 - val_decoder_loss: 0.0638 - val_capsnet_accuracy: 0.5435 - lr: 1.0000e-04\n",
            "Epoch 6/20\n",
            "11/11 [==============================] - ETA: 0s - loss: 0.2540 - capsnet_loss: 0.2286 - decoder_loss: 0.0648 - capsnet_accuracy: 0.5565 \n",
            "Epoch 6: val_capsnet_accuracy improved from 0.54348 to 0.55435, saving model to ./result/weights-06.h5\n",
            "11/11 [==============================] - 200s 18s/step - loss: 0.2540 - capsnet_loss: 0.2286 - decoder_loss: 0.0648 - capsnet_accuracy: 0.5565 - val_loss: 0.2466 - val_capsnet_loss: 0.2222 - val_decoder_loss: 0.0621 - val_capsnet_accuracy: 0.5543 - lr: 1.0000e-04\n",
            "Epoch 7/20\n",
            "11/11 [==============================] - ETA: 0s - loss: 0.2518 - capsnet_loss: 0.2268 - decoder_loss: 0.0639 - capsnet_accuracy: 0.5268 \n",
            "Epoch 7: val_capsnet_accuracy did not improve from 0.55435\n",
            "11/11 [==============================] - 190s 17s/step - loss: 0.2518 - capsnet_loss: 0.2268 - decoder_loss: 0.0639 - capsnet_accuracy: 0.5268 - val_loss: 0.2458 - val_capsnet_loss: 0.2227 - val_decoder_loss: 0.0590 - val_capsnet_accuracy: 0.5435 - lr: 1.0000e-04\n",
            "Epoch 8/20\n",
            "11/11 [==============================] - ETA: 0s - loss: 0.2366 - capsnet_loss: 0.2136 - decoder_loss: 0.0588 - capsnet_accuracy: 0.6250 \n",
            "Epoch 8: val_capsnet_accuracy improved from 0.55435 to 0.65217, saving model to ./result/weights-08.h5\n",
            "11/11 [==============================] - 164s 15s/step - loss: 0.2366 - capsnet_loss: 0.2136 - decoder_loss: 0.0588 - capsnet_accuracy: 0.6250 - val_loss: 0.2329 - val_capsnet_loss: 0.2119 - val_decoder_loss: 0.0536 - val_capsnet_accuracy: 0.6522 - lr: 1.0000e-04\n",
            "Epoch 9/20\n",
            "11/11 [==============================] - ETA: 0s - loss: 0.2210 - capsnet_loss: 0.2006 - decoder_loss: 0.0520 - capsnet_accuracy: 0.6488 \n",
            "Epoch 9: val_capsnet_accuracy improved from 0.65217 to 0.73913, saving model to ./result/weights-09.h5\n",
            "11/11 [==============================] - 161s 15s/step - loss: 0.2210 - capsnet_loss: 0.2006 - decoder_loss: 0.0520 - capsnet_accuracy: 0.6488 - val_loss: 0.2081 - val_capsnet_loss: 0.1908 - val_decoder_loss: 0.0441 - val_capsnet_accuracy: 0.7391 - lr: 1.0000e-04\n",
            "Epoch 10/20\n",
            "11/11 [==============================] - ETA: 0s - loss: 0.1962 - capsnet_loss: 0.1805 - decoder_loss: 0.0399 - capsnet_accuracy: 0.7054 \n",
            "Epoch 10: val_capsnet_accuracy did not improve from 0.73913\n",
            "11/11 [==============================] - 159s 15s/step - loss: 0.1962 - capsnet_loss: 0.1805 - decoder_loss: 0.0399 - capsnet_accuracy: 0.7054 - val_loss: 0.2034 - val_capsnet_loss: 0.1915 - val_decoder_loss: 0.0303 - val_capsnet_accuracy: 0.6630 - lr: 1.0000e-04\n",
            "Epoch 11/20\n",
            "11/11 [==============================] - ETA: 0s - loss: 0.1943 - capsnet_loss: 0.1838 - decoder_loss: 0.0270 - capsnet_accuracy: 0.6935 \n",
            "Epoch 11: val_capsnet_accuracy improved from 0.73913 to 0.75000, saving model to ./result/weights-11.h5\n",
            "11/11 [==============================] - 203s 19s/step - loss: 0.1943 - capsnet_loss: 0.1838 - decoder_loss: 0.0270 - capsnet_accuracy: 0.6935 - val_loss: 0.1855 - val_capsnet_loss: 0.1781 - val_decoder_loss: 0.0189 - val_capsnet_accuracy: 0.7500 - lr: 1.0000e-04\n",
            "Epoch 12/20\n",
            "11/11 [==============================] - ETA: 0s - loss: 0.1831 - capsnet_loss: 0.1768 - decoder_loss: 0.0161 - capsnet_accuracy: 0.7500 \n",
            "Epoch 12: val_capsnet_accuracy did not improve from 0.75000\n",
            "11/11 [==============================] - 169s 15s/step - loss: 0.1831 - capsnet_loss: 0.1768 - decoder_loss: 0.0161 - capsnet_accuracy: 0.7500 - val_loss: 0.1803 - val_capsnet_loss: 0.1753 - val_decoder_loss: 0.0126 - val_capsnet_accuracy: 0.6413 - lr: 1.0000e-04\n",
            "Epoch 13/20\n",
            "11/11 [==============================] - ETA: 0s - loss: 0.1793 - capsnet_loss: 0.1746 - decoder_loss: 0.0120 - capsnet_accuracy: 0.7159 \n",
            "Epoch 13: val_capsnet_accuracy did not improve from 0.75000\n",
            "11/11 [==============================] - 153s 14s/step - loss: 0.1793 - capsnet_loss: 0.1746 - decoder_loss: 0.0120 - capsnet_accuracy: 0.7159 - val_loss: 0.1632 - val_capsnet_loss: 0.1593 - val_decoder_loss: 0.0099 - val_capsnet_accuracy: 0.7174 - lr: 1.0000e-04\n",
            "Epoch 14/20\n",
            "11/11 [==============================] - ETA: 0s - loss: 0.1551 - capsnet_loss: 0.1509 - decoder_loss: 0.0106 - capsnet_accuracy: 0.7560 \n",
            "Epoch 14: val_capsnet_accuracy improved from 0.75000 to 0.78261, saving model to ./result/weights-14.h5\n",
            "11/11 [==============================] - 145s 14s/step - loss: 0.1551 - capsnet_loss: 0.1509 - decoder_loss: 0.0106 - capsnet_accuracy: 0.7560 - val_loss: 0.1629 - val_capsnet_loss: 0.1592 - val_decoder_loss: 0.0093 - val_capsnet_accuracy: 0.7826 - lr: 1.0000e-04\n",
            "Epoch 15/20\n",
            "11/11 [==============================] - ETA: 0s - loss: 0.1522 - capsnet_loss: 0.1479 - decoder_loss: 0.0109 - capsnet_accuracy: 0.7560 \n",
            "Epoch 15: val_capsnet_accuracy did not improve from 0.78261\n",
            "11/11 [==============================] - 159s 15s/step - loss: 0.1522 - capsnet_loss: 0.1479 - decoder_loss: 0.0109 - capsnet_accuracy: 0.7560 - val_loss: 0.1532 - val_capsnet_loss: 0.1496 - val_decoder_loss: 0.0093 - val_capsnet_accuracy: 0.7500 - lr: 1.0000e-04\n",
            "Epoch 16/20\n",
            "11/11 [==============================] - ETA: 0s - loss: 0.1503 - capsnet_loss: 0.1463 - decoder_loss: 0.0100 - capsnet_accuracy: 0.7560 \n",
            "Epoch 16: val_capsnet_accuracy did not improve from 0.78261\n",
            "11/11 [==============================] - 146s 13s/step - loss: 0.1503 - capsnet_loss: 0.1463 - decoder_loss: 0.0100 - capsnet_accuracy: 0.7560 - val_loss: 0.1623 - val_capsnet_loss: 0.1587 - val_decoder_loss: 0.0092 - val_capsnet_accuracy: 0.6848 - lr: 1.0000e-04\n",
            "Epoch 17/20\n",
            "11/11 [==============================] - ETA: 0s - loss: 0.1554 - capsnet_loss: 0.1513 - decoder_loss: 0.0105 - capsnet_accuracy: 0.7470 \n",
            "Epoch 17: val_capsnet_accuracy did not improve from 0.78261\n",
            "11/11 [==============================] - 146s 13s/step - loss: 0.1554 - capsnet_loss: 0.1513 - decoder_loss: 0.0105 - capsnet_accuracy: 0.7470 - val_loss: 0.1397 - val_capsnet_loss: 0.1362 - val_decoder_loss: 0.0088 - val_capsnet_accuracy: 0.7500 - lr: 1.0000e-04\n",
            "Epoch 18/20\n",
            "11/11 [==============================] - ETA: 0s - loss: 0.1560 - capsnet_loss: 0.1520 - decoder_loss: 0.0103 - capsnet_accuracy: 0.7738 \n",
            "Epoch 18: val_capsnet_accuracy did not improve from 0.78261\n",
            "11/11 [==============================] - 146s 13s/step - loss: 0.1560 - capsnet_loss: 0.1520 - decoder_loss: 0.0103 - capsnet_accuracy: 0.7738 - val_loss: 0.1593 - val_capsnet_loss: 0.1558 - val_decoder_loss: 0.0088 - val_capsnet_accuracy: 0.7500 - lr: 1.0000e-04\n",
            "Epoch 19/20\n",
            "11/11 [==============================] - ETA: 0s - loss: 0.1428 - capsnet_loss: 0.1386 - decoder_loss: 0.0107 - capsnet_accuracy: 0.8036 \n",
            "Epoch 19: val_capsnet_accuracy did not improve from 0.78261\n",
            "11/11 [==============================] - 146s 13s/step - loss: 0.1428 - capsnet_loss: 0.1386 - decoder_loss: 0.0107 - capsnet_accuracy: 0.8036 - val_loss: 0.1592 - val_capsnet_loss: 0.1557 - val_decoder_loss: 0.0091 - val_capsnet_accuracy: 0.6630 - lr: 1.0000e-04\n",
            "Epoch 20/20\n",
            "11/11 [==============================] - ETA: 0s - loss: 0.1420 - capsnet_loss: 0.1381 - decoder_loss: 0.0098 - capsnet_accuracy: 0.7887 \n",
            "Epoch 20: val_capsnet_accuracy did not improve from 0.78261\n",
            "11/11 [==============================] - 145s 13s/step - loss: 0.1420 - capsnet_loss: 0.1381 - decoder_loss: 0.0098 - capsnet_accuracy: 0.7887 - val_loss: 0.1812 - val_capsnet_loss: 0.1773 - val_decoder_loss: 0.0099 - val_capsnet_accuracy: 0.6630 - lr: 1.0000e-04\n",
            "Trained model saved to './result/trained_model.h5'\n"
          ]
        },
        {
          "output_type": "display_data",
          "data": {
            "text/plain": [
              "<Figure size 288x432 with 2 Axes>"
            ],
            "image/png": "[encoded data removed]"
          },
          "metadata": {
            "needs_background": "light"
          }
        }
      ]
    },
    {
      "cell_type": "markdown",
      "metadata": {
        "_cell_guid": "2706080d-2d50-4876-bd4d-c0f3c4ce87b5",
        "_uuid": "9afcde53f3cf3ba3eeeed1f083241874b4cd84e2",
        "id": "lMRMqKA9o8yS"
      },
      "source": [
        "# Show the results on the hold-out\n"
      ]
    },
    {
      "cell_type": "code",
      "source": [
        "x_test.shape"
      ],
      "metadata": {
        "colab": {
          "base_uri": "https://localhost:8080/"
        },
        "id": "kvn3MxxUAzrW",
        "outputId": "f1b01a33-be51-4487-c043-b1a052da9af2"
      },
      "execution_count": 20,
      "outputs": [
        {
          "output_type": "execute_result",
          "data": {
            "text/plain": [
              "(92, 64, 64, 3)"
            ]
          },
          "metadata": {},
          "execution_count": 20
        }
      ]
    },
    {
      "cell_type": "code",
      "source": [
        "trained_model.load_weights('./result/weights-14.h5')"
      ],
      "metadata": {
        "id": "MaQPw7FyCZTb"
      },
      "execution_count": 20,
      "outputs": []
    },
    {
      "cell_type": "code",
      "metadata": {
        "_cell_guid": "56a6fe58-fe97-45c8-95da-223297842f79",
        "_uuid": "25ac7feb2d111b82e755169288ffd47ebc4d196a",
        "id": "PL8it8clo8yT",
        "colab": {
          "base_uri": "https://localhost:8080/"
        },
        "outputId": "0df24ea0-f0e2-4150-9a10-422bf5cd6acc"
      },
      "source": [
        "\n",
        "y_pred,_= trained_model.predict((x_test,y_test), batch_size=46)\n",
        "print('-' * 30 + 'Begin: test' + '-' * 30)\n",
        "print('Test acc:', np.sum(np.argmax(y_pred, 1) == np.argmax(y_test, 1)) / y_test.shape[0])\n"
      ],
      "execution_count": 19,
      "outputs": [
        {
          "output_type": "stream",
          "name": "stdout",
          "text": [
            "------------------------------Begin: test------------------------------\n",
            "Test acc: 0.6630434782608695\n"
          ]
        }
      ]
    },
    {
      "cell_type": "code",
      "metadata": {
        "id": "xiBpPdkmY500",
        "colab": {
          "base_uri": "https://localhost:8080/"
        },
        "outputId": "d5479bba-38d6-4a73-bf9e-cb9e945287a5"
      },
      "source": [
        "y_pred,_= trained_model.predict((x_test,y_test), batch_size=x_test.shape[0])\n",
        "print('Test acc:', np.sum(np.argmax(y_pred, 1) == np.argmax(y_test, 1)) / y_test.shape[0])  \n"
      ],
      "execution_count": 45,
      "outputs": [
        {
          "output_type": "stream",
          "name": "stdout",
          "text": [
            "Test acc: 0.782608695652174\n"
          ]
        }
      ]
    },
    {
      "cell_type": "code",
      "source": [
        "result_pred = np.argmax(y_pred, axis=1) \n",
        "result_actual = np.argmax(y_test, axis=1) \n",
        "precision = precision_score(result_actual, result_pred)\n",
        "recall = recall_score(result_actual, result_pred)\n",
        "f1 = f1_score(result_actual, result_pred)\n",
        "tn, fp, fn, tp = confusion_matrix(result_actual, result_pred).ravel()\n",
        "fpr, tpr, thresholds = metrics.roc_curve(result_actual, result_pred)\n",
        "auc = metrics.auc(fpr, tpr)\n",
        "  \n",
        "print(f\"Precision:{precision}\")\n",
        "print(f\"recall:{recall}\")\n",
        "print(f\"f1:{f1}\")\n",
        "print(f\"AUC:{auc}\")\n",
        "print(f\"Sensitivity:{tp/(tp+fn)}\")\n",
        "print(f\"specificity:{tn/(tn+fp)}\")"
      ],
      "metadata": {
        "colab": {
          "base_uri": "https://localhost:8080/"
        },
        "id": "lV3blkNqh4-P",
        "outputId": "a9614d3d-bd3e-49fb-f6f1-cfbf82681ce7"
      },
      "execution_count": 47,
      "outputs": [
        {
          "output_type": "stream",
          "name": "stdout",
          "text": [
            "Precision:0.8260869565217391\n",
            "recall:0.76\n",
            "f1:0.7916666666666667\n",
            "AUC:0.7847619047619048\n",
            "Sensitivity:0.76\n",
            "specificity:0.8095238095238095\n"
          ]
        }
      ]
    },
    {
      "cell_type": "code",
      "source": [
        "from sklearn.metrics import confusion_matrix\n",
        "tn, fp, fn, tp = confusion_matrix(result_actual, result_pred).ravel()\n",
        "print(f\"Sensitivity:{tp/(tp+fn)}\")\n",
        "print(f\"specificity:{tn/(tn+fp)}\")"
      ],
      "metadata": {
        "colab": {
          "base_uri": "https://localhost:8080/"
        },
        "id": "EcVYRbZ9iIL-",
        "outputId": "a7c3ede4-110f-4084-ee56-5b21e96e1015"
      },
      "execution_count": 39,
      "outputs": [
        {
          "output_type": "stream",
          "name": "stdout",
          "text": [
            "Sensitivity:0.76\n",
            "specificity:0.8095238095238095\n"
          ]
        }
      ]
    },
    {
      "cell_type": "code",
      "source": [
        "fpr, tpr, thresholds = metrics.roc_curve(result_actual, result_pred)"
      ],
      "metadata": {
        "id": "ZezAT2KYlrZz"
      },
      "execution_count": 40,
      "outputs": []
    },
    {
      "cell_type": "code",
      "source": [
        "metrics.auc(fpr, tpr)"
      ],
      "metadata": {
        "colab": {
          "base_uri": "https://localhost:8080/"
        },
        "id": "A5NqTR4Jn5r7",
        "outputId": "e6644851-ea27-4394-cb50-340fb5cb0a80"
      },
      "execution_count": 44,
      "outputs": [
        {
          "output_type": "execute_result",
          "data": {
            "text/plain": [
              "0.7847619047619048"
            ]
          },
          "metadata": {},
          "execution_count": 44
        }
      ]
    }
  ]
}